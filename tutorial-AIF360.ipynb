{
 "cells": [
  {
   "cell_type": "markdown",
   "id": "c6ffe7c7",
   "metadata": {},
   "source": [
    "# <center> AIF360 Scikit-Learn Tutorial</center>"
   ]
  },
  {
   "cell_type": "markdown",
   "id": "43b994b6",
   "metadata": {},
   "source": [
    "# Get data"
   ]
  },
  {
   "cell_type": "markdown",
   "id": "5b306619",
   "metadata": {},
   "source": [
    "- If you have a dataset that you want to evaluate bias in it, you can simply load with pandas and input in the library\n",
    "- AIF360 has a module for loading datasets.\n",
    "    - fetch_adult() - Adult Census Income Dataset.\n",
    "    - fetch_german() - German Credit Dataset\n",
    "    - fetch_bank() - Bank Marketing Dataset\n",
    "    `from aif360.sklearn.datasets import fetch_adult`\n",
    "- For the didactic purposes, I've downloaded the original dataset from Kaggle https://www.kaggle.com/uciml/adult-census-income"
   ]
  },
  {
   "cell_type": "code",
   "execution_count": 32,
   "id": "790e6a8a",
   "metadata": {},
   "outputs": [],
   "source": [
    "import pandas as pd\n",
    "import matplotlib.pyplot as plt\n",
    "import seaborn as sns\n",
    "\n",
    "pd.options.display.max_rows = 2000\n",
    "pd.options.display.max_columns = 2000"
   ]
  },
  {
   "cell_type": "code",
   "execution_count": 5,
   "id": "59d943d9",
   "metadata": {},
   "outputs": [],
   "source": [
    "df = pd.read_csv('data/adult.csv')"
   ]
  },
  {
   "cell_type": "code",
   "execution_count": 6,
   "id": "2753d9c4",
   "metadata": {},
   "outputs": [
    {
     "data": {
      "text/html": [
       "<div>\n",
       "<style scoped>\n",
       "    .dataframe tbody tr th:only-of-type {\n",
       "        vertical-align: middle;\n",
       "    }\n",
       "\n",
       "    .dataframe tbody tr th {\n",
       "        vertical-align: top;\n",
       "    }\n",
       "\n",
       "    .dataframe thead th {\n",
       "        text-align: right;\n",
       "    }\n",
       "</style>\n",
       "<table border=\"1\" class=\"dataframe\">\n",
       "  <thead>\n",
       "    <tr style=\"text-align: right;\">\n",
       "      <th></th>\n",
       "      <th>age</th>\n",
       "      <th>workclass</th>\n",
       "      <th>fnlwgt</th>\n",
       "      <th>education</th>\n",
       "      <th>education.num</th>\n",
       "      <th>marital.status</th>\n",
       "      <th>occupation</th>\n",
       "      <th>relationship</th>\n",
       "      <th>race</th>\n",
       "      <th>sex</th>\n",
       "      <th>capital.gain</th>\n",
       "      <th>capital.loss</th>\n",
       "      <th>hours.per.week</th>\n",
       "      <th>native.country</th>\n",
       "      <th>income</th>\n",
       "    </tr>\n",
       "  </thead>\n",
       "  <tbody>\n",
       "    <tr>\n",
       "      <th>0</th>\n",
       "      <td>90</td>\n",
       "      <td>?</td>\n",
       "      <td>77053</td>\n",
       "      <td>HS-grad</td>\n",
       "      <td>9</td>\n",
       "      <td>Widowed</td>\n",
       "      <td>?</td>\n",
       "      <td>Not-in-family</td>\n",
       "      <td>White</td>\n",
       "      <td>Female</td>\n",
       "      <td>0</td>\n",
       "      <td>4356</td>\n",
       "      <td>40</td>\n",
       "      <td>United-States</td>\n",
       "      <td>&lt;=50K</td>\n",
       "    </tr>\n",
       "    <tr>\n",
       "      <th>1</th>\n",
       "      <td>82</td>\n",
       "      <td>Private</td>\n",
       "      <td>132870</td>\n",
       "      <td>HS-grad</td>\n",
       "      <td>9</td>\n",
       "      <td>Widowed</td>\n",
       "      <td>Exec-managerial</td>\n",
       "      <td>Not-in-family</td>\n",
       "      <td>White</td>\n",
       "      <td>Female</td>\n",
       "      <td>0</td>\n",
       "      <td>4356</td>\n",
       "      <td>18</td>\n",
       "      <td>United-States</td>\n",
       "      <td>&lt;=50K</td>\n",
       "    </tr>\n",
       "    <tr>\n",
       "      <th>2</th>\n",
       "      <td>66</td>\n",
       "      <td>?</td>\n",
       "      <td>186061</td>\n",
       "      <td>Some-college</td>\n",
       "      <td>10</td>\n",
       "      <td>Widowed</td>\n",
       "      <td>?</td>\n",
       "      <td>Unmarried</td>\n",
       "      <td>Black</td>\n",
       "      <td>Female</td>\n",
       "      <td>0</td>\n",
       "      <td>4356</td>\n",
       "      <td>40</td>\n",
       "      <td>United-States</td>\n",
       "      <td>&lt;=50K</td>\n",
       "    </tr>\n",
       "    <tr>\n",
       "      <th>3</th>\n",
       "      <td>54</td>\n",
       "      <td>Private</td>\n",
       "      <td>140359</td>\n",
       "      <td>7th-8th</td>\n",
       "      <td>4</td>\n",
       "      <td>Divorced</td>\n",
       "      <td>Machine-op-inspct</td>\n",
       "      <td>Unmarried</td>\n",
       "      <td>White</td>\n",
       "      <td>Female</td>\n",
       "      <td>0</td>\n",
       "      <td>3900</td>\n",
       "      <td>40</td>\n",
       "      <td>United-States</td>\n",
       "      <td>&lt;=50K</td>\n",
       "    </tr>\n",
       "    <tr>\n",
       "      <th>4</th>\n",
       "      <td>41</td>\n",
       "      <td>Private</td>\n",
       "      <td>264663</td>\n",
       "      <td>Some-college</td>\n",
       "      <td>10</td>\n",
       "      <td>Separated</td>\n",
       "      <td>Prof-specialty</td>\n",
       "      <td>Own-child</td>\n",
       "      <td>White</td>\n",
       "      <td>Female</td>\n",
       "      <td>0</td>\n",
       "      <td>3900</td>\n",
       "      <td>40</td>\n",
       "      <td>United-States</td>\n",
       "      <td>&lt;=50K</td>\n",
       "    </tr>\n",
       "  </tbody>\n",
       "</table>\n",
       "</div>"
      ],
      "text/plain": [
       "   age workclass  fnlwgt     education  education.num marital.status  \\\n",
       "0   90         ?   77053       HS-grad              9        Widowed   \n",
       "1   82   Private  132870       HS-grad              9        Widowed   \n",
       "2   66         ?  186061  Some-college             10        Widowed   \n",
       "3   54   Private  140359       7th-8th              4       Divorced   \n",
       "4   41   Private  264663  Some-college             10      Separated   \n",
       "\n",
       "          occupation   relationship   race     sex  capital.gain  \\\n",
       "0                  ?  Not-in-family  White  Female             0   \n",
       "1    Exec-managerial  Not-in-family  White  Female             0   \n",
       "2                  ?      Unmarried  Black  Female             0   \n",
       "3  Machine-op-inspct      Unmarried  White  Female             0   \n",
       "4     Prof-specialty      Own-child  White  Female             0   \n",
       "\n",
       "   capital.loss  hours.per.week native.country income  \n",
       "0          4356              40  United-States  <=50K  \n",
       "1          4356              18  United-States  <=50K  \n",
       "2          4356              40  United-States  <=50K  \n",
       "3          3900              40  United-States  <=50K  \n",
       "4          3900              40  United-States  <=50K  "
      ]
     },
     "execution_count": 6,
     "metadata": {},
     "output_type": "execute_result"
    }
   ],
   "source": [
    "df.head()"
   ]
  },
  {
   "cell_type": "markdown",
   "id": "7ce4c233",
   "metadata": {},
   "source": [
    "# Explore data"
   ]
  },
  {
   "cell_type": "code",
   "execution_count": 9,
   "id": "34d3027f",
   "metadata": {},
   "outputs": [
    {
     "data": {
      "text/plain": [
       "(32561, 15)"
      ]
     },
     "execution_count": 9,
     "metadata": {},
     "output_type": "execute_result"
    }
   ],
   "source": [
    "df.shape"
   ]
  },
  {
   "cell_type": "code",
   "execution_count": 10,
   "id": "d54fe6c9",
   "metadata": {},
   "outputs": [
    {
     "name": "stdout",
     "output_type": "stream",
     "text": [
      "<class 'pandas.core.frame.DataFrame'>\n",
      "RangeIndex: 32561 entries, 0 to 32560\n",
      "Data columns (total 15 columns):\n",
      " #   Column          Non-Null Count  Dtype \n",
      "---  ------          --------------  ----- \n",
      " 0   age             32561 non-null  int64 \n",
      " 1   workclass       32561 non-null  object\n",
      " 2   fnlwgt          32561 non-null  int64 \n",
      " 3   education       32561 non-null  object\n",
      " 4   education.num   32561 non-null  int64 \n",
      " 5   marital.status  32561 non-null  object\n",
      " 6   occupation      32561 non-null  object\n",
      " 7   relationship    32561 non-null  object\n",
      " 8   race            32561 non-null  object\n",
      " 9   sex             32561 non-null  object\n",
      " 10  capital.gain    32561 non-null  int64 \n",
      " 11  capital.loss    32561 non-null  int64 \n",
      " 12  hours.per.week  32561 non-null  int64 \n",
      " 13  native.country  32561 non-null  object\n",
      " 14  income          32561 non-null  object\n",
      "dtypes: int64(6), object(9)\n",
      "memory usage: 3.7+ MB\n"
     ]
    }
   ],
   "source": [
    "df.info()"
   ]
  },
  {
   "cell_type": "code",
   "execution_count": 11,
   "id": "d811fda1",
   "metadata": {},
   "outputs": [],
   "source": [
    "df = df.reset_index()"
   ]
  },
  {
   "cell_type": "code",
   "execution_count": 12,
   "id": "61ebb046",
   "metadata": {},
   "outputs": [
    {
     "data": {
      "text/html": [
       "<div>\n",
       "<style scoped>\n",
       "    .dataframe tbody tr th:only-of-type {\n",
       "        vertical-align: middle;\n",
       "    }\n",
       "\n",
       "    .dataframe tbody tr th {\n",
       "        vertical-align: top;\n",
       "    }\n",
       "\n",
       "    .dataframe thead th {\n",
       "        text-align: right;\n",
       "    }\n",
       "</style>\n",
       "<table border=\"1\" class=\"dataframe\">\n",
       "  <thead>\n",
       "    <tr style=\"text-align: right;\">\n",
       "      <th></th>\n",
       "      <th>index</th>\n",
       "      <th>age</th>\n",
       "      <th>workclass</th>\n",
       "      <th>fnlwgt</th>\n",
       "      <th>education</th>\n",
       "      <th>education.num</th>\n",
       "      <th>marital.status</th>\n",
       "      <th>occupation</th>\n",
       "      <th>relationship</th>\n",
       "      <th>race</th>\n",
       "      <th>sex</th>\n",
       "      <th>capital.gain</th>\n",
       "      <th>capital.loss</th>\n",
       "      <th>hours.per.week</th>\n",
       "      <th>native.country</th>\n",
       "      <th>income</th>\n",
       "    </tr>\n",
       "  </thead>\n",
       "  <tbody>\n",
       "    <tr>\n",
       "      <th>0</th>\n",
       "      <td>0</td>\n",
       "      <td>90</td>\n",
       "      <td>?</td>\n",
       "      <td>77053</td>\n",
       "      <td>HS-grad</td>\n",
       "      <td>9</td>\n",
       "      <td>Widowed</td>\n",
       "      <td>?</td>\n",
       "      <td>Not-in-family</td>\n",
       "      <td>White</td>\n",
       "      <td>Female</td>\n",
       "      <td>0</td>\n",
       "      <td>4356</td>\n",
       "      <td>40</td>\n",
       "      <td>United-States</td>\n",
       "      <td>&lt;=50K</td>\n",
       "    </tr>\n",
       "    <tr>\n",
       "      <th>1</th>\n",
       "      <td>1</td>\n",
       "      <td>82</td>\n",
       "      <td>Private</td>\n",
       "      <td>132870</td>\n",
       "      <td>HS-grad</td>\n",
       "      <td>9</td>\n",
       "      <td>Widowed</td>\n",
       "      <td>Exec-managerial</td>\n",
       "      <td>Not-in-family</td>\n",
       "      <td>White</td>\n",
       "      <td>Female</td>\n",
       "      <td>0</td>\n",
       "      <td>4356</td>\n",
       "      <td>18</td>\n",
       "      <td>United-States</td>\n",
       "      <td>&lt;=50K</td>\n",
       "    </tr>\n",
       "    <tr>\n",
       "      <th>2</th>\n",
       "      <td>2</td>\n",
       "      <td>66</td>\n",
       "      <td>?</td>\n",
       "      <td>186061</td>\n",
       "      <td>Some-college</td>\n",
       "      <td>10</td>\n",
       "      <td>Widowed</td>\n",
       "      <td>?</td>\n",
       "      <td>Unmarried</td>\n",
       "      <td>Black</td>\n",
       "      <td>Female</td>\n",
       "      <td>0</td>\n",
       "      <td>4356</td>\n",
       "      <td>40</td>\n",
       "      <td>United-States</td>\n",
       "      <td>&lt;=50K</td>\n",
       "    </tr>\n",
       "    <tr>\n",
       "      <th>3</th>\n",
       "      <td>3</td>\n",
       "      <td>54</td>\n",
       "      <td>Private</td>\n",
       "      <td>140359</td>\n",
       "      <td>7th-8th</td>\n",
       "      <td>4</td>\n",
       "      <td>Divorced</td>\n",
       "      <td>Machine-op-inspct</td>\n",
       "      <td>Unmarried</td>\n",
       "      <td>White</td>\n",
       "      <td>Female</td>\n",
       "      <td>0</td>\n",
       "      <td>3900</td>\n",
       "      <td>40</td>\n",
       "      <td>United-States</td>\n",
       "      <td>&lt;=50K</td>\n",
       "    </tr>\n",
       "    <tr>\n",
       "      <th>4</th>\n",
       "      <td>4</td>\n",
       "      <td>41</td>\n",
       "      <td>Private</td>\n",
       "      <td>264663</td>\n",
       "      <td>Some-college</td>\n",
       "      <td>10</td>\n",
       "      <td>Separated</td>\n",
       "      <td>Prof-specialty</td>\n",
       "      <td>Own-child</td>\n",
       "      <td>White</td>\n",
       "      <td>Female</td>\n",
       "      <td>0</td>\n",
       "      <td>3900</td>\n",
       "      <td>40</td>\n",
       "      <td>United-States</td>\n",
       "      <td>&lt;=50K</td>\n",
       "    </tr>\n",
       "  </tbody>\n",
       "</table>\n",
       "</div>"
      ],
      "text/plain": [
       "   index  age workclass  fnlwgt     education  education.num marital.status  \\\n",
       "0      0   90         ?   77053       HS-grad              9        Widowed   \n",
       "1      1   82   Private  132870       HS-grad              9        Widowed   \n",
       "2      2   66         ?  186061  Some-college             10        Widowed   \n",
       "3      3   54   Private  140359       7th-8th              4       Divorced   \n",
       "4      4   41   Private  264663  Some-college             10      Separated   \n",
       "\n",
       "          occupation   relationship   race     sex  capital.gain  \\\n",
       "0                  ?  Not-in-family  White  Female             0   \n",
       "1    Exec-managerial  Not-in-family  White  Female             0   \n",
       "2                  ?      Unmarried  Black  Female             0   \n",
       "3  Machine-op-inspct      Unmarried  White  Female             0   \n",
       "4     Prof-specialty      Own-child  White  Female             0   \n",
       "\n",
       "   capital.loss  hours.per.week native.country income  \n",
       "0          4356              40  United-States  <=50K  \n",
       "1          4356              18  United-States  <=50K  \n",
       "2          4356              40  United-States  <=50K  \n",
       "3          3900              40  United-States  <=50K  \n",
       "4          3900              40  United-States  <=50K  "
      ]
     },
     "execution_count": 12,
     "metadata": {},
     "output_type": "execute_result"
    }
   ],
   "source": [
    "df.head()"
   ]
  },
  {
   "cell_type": "markdown",
   "id": "068ff199",
   "metadata": {},
   "source": [
    "## > Explore column by column:"
   ]
  },
  {
   "cell_type": "code",
   "execution_count": 14,
   "id": "e6f26ef2",
   "metadata": {},
   "outputs": [
    {
     "data": {
      "text/plain": [
       "Index(['index', 'age', 'workclass', 'fnlwgt', 'education', 'education.num',\n",
       "       'marital.status', 'occupation', 'relationship', 'race', 'sex',\n",
       "       'capital.gain', 'capital.loss', 'hours.per.week', 'native.country',\n",
       "       'income'],\n",
       "      dtype='object')"
      ]
     },
     "execution_count": 14,
     "metadata": {},
     "output_type": "execute_result"
    }
   ],
   "source": [
    "df.columns"
   ]
  },
  {
   "cell_type": "code",
   "execution_count": 15,
   "id": "db27f6fc",
   "metadata": {},
   "outputs": [
    {
     "data": {
      "text/plain": [
       "count    32561.000000\n",
       "mean        38.581647\n",
       "std         13.640433\n",
       "min         17.000000\n",
       "25%         28.000000\n",
       "50%         37.000000\n",
       "75%         48.000000\n",
       "max         90.000000\n",
       "Name: age, dtype: float64"
      ]
     },
     "execution_count": 15,
     "metadata": {},
     "output_type": "execute_result"
    }
   ],
   "source": [
    "df['age'].describe()"
   ]
  },
  {
   "cell_type": "code",
   "execution_count": 16,
   "id": "c49735cd",
   "metadata": {},
   "outputs": [
    {
     "data": {
      "text/plain": [
       "(array([2410., 3160., 2461., 3429., 3465., 2583., 3198., 2965., 1828.,\n",
       "        2139., 1558., 1033.,  996.,  599.,  269.,  227.,  120.,   54.,\n",
       "          20.,   47.]),\n",
       " array([17.  , 20.65, 24.3 , 27.95, 31.6 , 35.25, 38.9 , 42.55, 46.2 ,\n",
       "        49.85, 53.5 , 57.15, 60.8 , 64.45, 68.1 , 71.75, 75.4 , 79.05,\n",
       "        82.7 , 86.35, 90.  ]),\n",
       " <BarContainer object of 20 artists>)"
      ]
     },
     "execution_count": 16,
     "metadata": {},
     "output_type": "execute_result"
    },
    {
     "data": {
      "image/png": "[encoded data removed]",
      "text/plain": [
       "<Figure size 432x288 with 1 Axes>"
      ]
     },
     "metadata": {
      "needs_background": "light"
     },
     "output_type": "display_data"
    }
   ],
   "source": [
    "plt.hist(df['age'], bins=20)"
   ]
  },
  {
   "cell_type": "markdown",
   "id": "6adb4def",
   "metadata": {},
   "source": [
    "It is well distributed. Seems like most of population is around 30 years old with 37/38 being the ages with most people. \n",
    "\n",
    "No transformations are needed for this column, I will use the raw value."
   ]
  },
  {
   "cell_type": "code",
   "execution_count": 17,
   "id": "44ec265d",
   "metadata": {},
   "outputs": [
    {
     "data": {
      "text/plain": [
       "Private             22696\n",
       "Self-emp-not-inc     2541\n",
       "Local-gov            2093\n",
       "?                    1836\n",
       "State-gov            1298\n",
       "Self-emp-inc         1116\n",
       "Federal-gov           960\n",
       "Without-pay            14\n",
       "Never-worked            7\n",
       "Name: workclass, dtype: int64"
      ]
     },
     "execution_count": 17,
     "metadata": {},
     "output_type": "execute_result"
    }
   ],
   "source": [
    "df['workclass'].value_counts()"
   ]
  },
  {
   "cell_type": "code",
   "execution_count": 97,
   "id": "3d81f4f8",
   "metadata": {},
   "outputs": [
    {
     "data": {
      "text/plain": [
       "Private             0.697030\n",
       "Self-emp-not-inc    0.078038\n",
       "Local-gov           0.064279\n",
       "?                   0.056386\n",
       "State-gov           0.039864\n",
       "Self-emp-inc        0.034274\n",
       "Federal-gov         0.029483\n",
       "Without-pay         0.000430\n",
       "Never-worked        0.000215\n",
       "Name: workclass, dtype: float64"
      ]
     },
     "execution_count": 97,
     "metadata": {},
     "output_type": "execute_result"
    }
   ],
   "source": [
    "df['workclass'].value_counts(1)"
   ]
  },
  {
   "cell_type": "markdown",
   "id": "68b40bc6",
   "metadata": {},
   "source": [
    "Most people work in private companies.\n",
    "\n",
    "I can one hot encode these features."
   ]
  },
  {
   "cell_type": "code",
   "execution_count": 98,
   "id": "4ff83414",
   "metadata": {},
   "outputs": [
    {
     "data": {
      "text/plain": [
       "count    3.256100e+04\n",
       "mean     1.897784e+05\n",
       "std      1.055500e+05\n",
       "min      1.228500e+04\n",
       "25%      1.178270e+05\n",
       "50%      1.783560e+05\n",
       "75%      2.370510e+05\n",
       "max      1.484705e+06\n",
       "Name: fnlwgt, dtype: float64"
      ]
     },
     "execution_count": 98,
     "metadata": {},
     "output_type": "execute_result"
    }
   ],
   "source": [
    "df['fnlwgt'].describe()"
   ]
  },
  {
   "cell_type": "markdown",
   "id": "0b70f3ca",
   "metadata": {},
   "source": [
    "This seems like some sort of id. Let me check."
   ]
  },
  {
   "cell_type": "code",
   "execution_count": 99,
   "id": "f746ddb3",
   "metadata": {},
   "outputs": [
    {
     "data": {
      "text/plain": [
       "21648"
      ]
     },
     "execution_count": 99,
     "metadata": {},
     "output_type": "execute_result"
    }
   ],
   "source": [
    "df['fnlwgt'].nunique()"
   ]
  },
  {
   "cell_type": "code",
   "execution_count": 100,
   "id": "04771931",
   "metadata": {},
   "outputs": [
    {
     "data": {
      "text/plain": [
       "(32561, 16)"
      ]
     },
     "execution_count": 100,
     "metadata": {},
     "output_type": "execute_result"
    }
   ],
   "source": [
    "df.shape"
   ]
  },
  {
   "cell_type": "markdown",
   "id": "565be9eb",
   "metadata": {},
   "source": [
    "Nope. But I have to check what it can mean later. \n",
    "\n",
    "I searched on Google and I got this: \"The continuous variable fnlwgt represents final weight, which is the number of units in the target population that the responding unit represents\". Since I have no idea what this means, I will drop this column."
   ]
  },
  {
   "cell_type": "code",
   "execution_count": 101,
   "id": "05e0b74c",
   "metadata": {},
   "outputs": [
    {
     "data": {
      "text/plain": [
       "HS-grad         10501\n",
       "Some-college     7291\n",
       "Bachelors        5355\n",
       "Masters          1723\n",
       "Assoc-voc        1382\n",
       "11th             1175\n",
       "Assoc-acdm       1067\n",
       "10th              933\n",
       "7th-8th           646\n",
       "Prof-school       576\n",
       "9th               514\n",
       "12th              433\n",
       "Doctorate         413\n",
       "5th-6th           333\n",
       "1st-4th           168\n",
       "Preschool          51\n",
       "Name: education, dtype: int64"
      ]
     },
     "execution_count": 101,
     "metadata": {},
     "output_type": "execute_result"
    }
   ],
   "source": [
    "df['education'].value_counts()"
   ]
  },
  {
   "cell_type": "markdown",
   "id": "1e9d4371",
   "metadata": {},
   "source": [
    "Just education levels. I can make them into ordinal features and do a one hot encoding after."
   ]
  },
  {
   "cell_type": "code",
   "execution_count": 102,
   "id": "f5aaa567",
   "metadata": {},
   "outputs": [
    {
     "data": {
      "text/plain": [
       "9     10501\n",
       "10     7291\n",
       "13     5355\n",
       "14     1723\n",
       "11     1382\n",
       "7      1175\n",
       "12     1067\n",
       "6       933\n",
       "4       646\n",
       "15      576\n",
       "5       514\n",
       "8       433\n",
       "16      413\n",
       "3       333\n",
       "2       168\n",
       "1        51\n",
       "Name: education.num, dtype: int64"
      ]
     },
     "execution_count": 102,
     "metadata": {},
     "output_type": "execute_result"
    }
   ],
   "source": [
    "df['education.num'].value_counts()"
   ]
  },
  {
   "cell_type": "markdown",
   "id": "026d2de2",
   "metadata": {},
   "source": [
    "Is this some sort of code for the previous column? Let me check."
   ]
  },
  {
   "cell_type": "code",
   "execution_count": 103,
   "id": "ecd71122",
   "metadata": {},
   "outputs": [
    {
     "data": {
      "text/html": [
       "<div>\n",
       "<style scoped>\n",
       "    .dataframe tbody tr th:only-of-type {\n",
       "        vertical-align: middle;\n",
       "    }\n",
       "\n",
       "    .dataframe tbody tr th {\n",
       "        vertical-align: top;\n",
       "    }\n",
       "\n",
       "    .dataframe thead th {\n",
       "        text-align: right;\n",
       "    }\n",
       "</style>\n",
       "<table border=\"1\" class=\"dataframe\">\n",
       "  <thead>\n",
       "    <tr style=\"text-align: right;\">\n",
       "      <th></th>\n",
       "      <th>education</th>\n",
       "      <th>education.num</th>\n",
       "    </tr>\n",
       "  </thead>\n",
       "  <tbody>\n",
       "    <tr>\n",
       "      <th>13</th>\n",
       "      <td>Preschool</td>\n",
       "      <td>1</td>\n",
       "    </tr>\n",
       "    <tr>\n",
       "      <th>3</th>\n",
       "      <td>1st-4th</td>\n",
       "      <td>2</td>\n",
       "    </tr>\n",
       "    <tr>\n",
       "      <th>4</th>\n",
       "      <td>5th-6th</td>\n",
       "      <td>3</td>\n",
       "    </tr>\n",
       "    <tr>\n",
       "      <th>5</th>\n",
       "      <td>7th-8th</td>\n",
       "      <td>4</td>\n",
       "    </tr>\n",
       "    <tr>\n",
       "      <th>6</th>\n",
       "      <td>9th</td>\n",
       "      <td>5</td>\n",
       "    </tr>\n",
       "    <tr>\n",
       "      <th>0</th>\n",
       "      <td>10th</td>\n",
       "      <td>6</td>\n",
       "    </tr>\n",
       "    <tr>\n",
       "      <th>1</th>\n",
       "      <td>11th</td>\n",
       "      <td>7</td>\n",
       "    </tr>\n",
       "    <tr>\n",
       "      <th>2</th>\n",
       "      <td>12th</td>\n",
       "      <td>8</td>\n",
       "    </tr>\n",
       "    <tr>\n",
       "      <th>11</th>\n",
       "      <td>HS-grad</td>\n",
       "      <td>9</td>\n",
       "    </tr>\n",
       "    <tr>\n",
       "      <th>15</th>\n",
       "      <td>Some-college</td>\n",
       "      <td>10</td>\n",
       "    </tr>\n",
       "    <tr>\n",
       "      <th>8</th>\n",
       "      <td>Assoc-voc</td>\n",
       "      <td>11</td>\n",
       "    </tr>\n",
       "    <tr>\n",
       "      <th>7</th>\n",
       "      <td>Assoc-acdm</td>\n",
       "      <td>12</td>\n",
       "    </tr>\n",
       "    <tr>\n",
       "      <th>9</th>\n",
       "      <td>Bachelors</td>\n",
       "      <td>13</td>\n",
       "    </tr>\n",
       "    <tr>\n",
       "      <th>12</th>\n",
       "      <td>Masters</td>\n",
       "      <td>14</td>\n",
       "    </tr>\n",
       "    <tr>\n",
       "      <th>14</th>\n",
       "      <td>Prof-school</td>\n",
       "      <td>15</td>\n",
       "    </tr>\n",
       "    <tr>\n",
       "      <th>10</th>\n",
       "      <td>Doctorate</td>\n",
       "      <td>16</td>\n",
       "    </tr>\n",
       "  </tbody>\n",
       "</table>\n",
       "</div>"
      ],
      "text/plain": [
       "       education  education.num\n",
       "13     Preschool              1\n",
       "3        1st-4th              2\n",
       "4        5th-6th              3\n",
       "5        7th-8th              4\n",
       "6            9th              5\n",
       "0           10th              6\n",
       "1           11th              7\n",
       "2           12th              8\n",
       "11       HS-grad              9\n",
       "15  Some-college             10\n",
       "8      Assoc-voc             11\n",
       "7     Assoc-acdm             12\n",
       "9      Bachelors             13\n",
       "12       Masters             14\n",
       "14   Prof-school             15\n",
       "10     Doctorate             16"
      ]
     },
     "execution_count": 103,
     "metadata": {},
     "output_type": "execute_result"
    }
   ],
   "source": [
    "df.groupby(['education', 'education.num'], as_index=False).count()\\\n",
    "        [['education', 'education.num']].sort_values('education.num')"
   ]
  },
  {
   "cell_type": "markdown",
   "id": "20f1a0d8",
   "metadata": {},
   "source": [
    "Looks like it is. This way, I may not need this column."
   ]
  },
  {
   "cell_type": "code",
   "execution_count": 104,
   "id": "448fc35c",
   "metadata": {},
   "outputs": [
    {
     "data": {
      "text/plain": [
       "Married-civ-spouse       14976\n",
       "Never-married            10683\n",
       "Divorced                  4443\n",
       "Separated                 1025\n",
       "Widowed                    993\n",
       "Married-spouse-absent      418\n",
       "Married-AF-spouse           23\n",
       "Name: marital.status, dtype: int64"
      ]
     },
     "execution_count": 104,
     "metadata": {},
     "output_type": "execute_result"
    }
   ],
   "source": [
    "df['marital.status'].value_counts()"
   ]
  },
  {
   "cell_type": "code",
   "execution_count": 105,
   "id": "0c915617",
   "metadata": {},
   "outputs": [
    {
     "data": {
      "text/plain": [
       "Married-civ-spouse       0.459937\n",
       "Never-married            0.328092\n",
       "Divorced                 0.136452\n",
       "Separated                0.031479\n",
       "Widowed                  0.030497\n",
       "Married-spouse-absent    0.012837\n",
       "Married-AF-spouse        0.000706\n",
       "Name: marital.status, dtype: float64"
      ]
     },
     "execution_count": 105,
     "metadata": {},
     "output_type": "execute_result"
    }
   ],
   "source": [
    "df['marital.status'].value_counts(1)"
   ]
  },
  {
   "cell_type": "markdown",
   "id": "977f529a",
   "metadata": {},
   "source": [
    "One hot encode this."
   ]
  },
  {
   "cell_type": "code",
   "execution_count": 106,
   "id": "e0e59835",
   "metadata": {},
   "outputs": [
    {
     "data": {
      "text/plain": [
       "Prof-specialty       4140\n",
       "Craft-repair         4099\n",
       "Exec-managerial      4066\n",
       "Adm-clerical         3770\n",
       "Sales                3650\n",
       "Other-service        3295\n",
       "Machine-op-inspct    2002\n",
       "?                    1843\n",
       "Transport-moving     1597\n",
       "Handlers-cleaners    1370\n",
       "Farming-fishing       994\n",
       "Tech-support          928\n",
       "Protective-serv       649\n",
       "Priv-house-serv       149\n",
       "Armed-Forces            9\n",
       "Name: occupation, dtype: int64"
      ]
     },
     "execution_count": 106,
     "metadata": {},
     "output_type": "execute_result"
    }
   ],
   "source": [
    "df['occupation'].value_counts()"
   ]
  },
  {
   "cell_type": "code",
   "execution_count": 107,
   "id": "ae9dab2f",
   "metadata": {},
   "outputs": [
    {
     "data": {
      "text/plain": [
       "15"
      ]
     },
     "execution_count": 107,
     "metadata": {},
     "output_type": "execute_result"
    }
   ],
   "source": [
    "df['occupation'].nunique()"
   ]
  },
  {
   "cell_type": "markdown",
   "id": "d7f0e010",
   "metadata": {},
   "source": [
    "Occupation will probably impact on what we are trying to predict: income. Good thing is that the data is well distributed for this. \n",
    "\n",
    "Despite having so many occupations in the world this column has only these 15. I can one hot encode them."
   ]
  },
  {
   "cell_type": "code",
   "execution_count": 108,
   "id": "7bc9dc89",
   "metadata": {},
   "outputs": [
    {
     "data": {
      "text/plain": [
       "Husband           13193\n",
       "Not-in-family      8305\n",
       "Own-child          5068\n",
       "Unmarried          3446\n",
       "Wife               1568\n",
       "Other-relative      981\n",
       "Name: relationship, dtype: int64"
      ]
     },
     "execution_count": 108,
     "metadata": {},
     "output_type": "execute_result"
    }
   ],
   "source": [
    "df['relationship'].value_counts()"
   ]
  },
  {
   "cell_type": "code",
   "execution_count": 109,
   "id": "d6f521ca",
   "metadata": {},
   "outputs": [
    {
     "data": {
      "text/plain": [
       "Husband           0.405178\n",
       "Not-in-family     0.255060\n",
       "Own-child         0.155646\n",
       "Unmarried         0.105832\n",
       "Wife              0.048156\n",
       "Other-relative    0.030128\n",
       "Name: relationship, dtype: float64"
      ]
     },
     "execution_count": 109,
     "metadata": {},
     "output_type": "execute_result"
    }
   ],
   "source": [
    "df['relationship'].value_counts(1)"
   ]
  },
  {
   "cell_type": "markdown",
   "id": "c7fd9efc",
   "metadata": {},
   "source": [
    "Don't know if this column means that the person is in a relationship with a \"husband\" or \"wife\" or if they are the 'husband' and 'wife'."
   ]
  },
  {
   "cell_type": "markdown",
   "id": "876c4422",
   "metadata": {},
   "source": [
    "Let me see if I can find out by using the column 'sex'."
   ]
  },
  {
   "cell_type": "code",
   "execution_count": 110,
   "id": "3feab201",
   "metadata": {},
   "outputs": [
    {
     "data": {
      "text/plain": [
       "relationship    sex   \n",
       "Husband         Female        1\n",
       "                Male      13192\n",
       "Not-in-family   Female     3875\n",
       "                Male       4430\n",
       "Other-relative  Female      430\n",
       "                Male        551\n",
       "Own-child       Female     2245\n",
       "                Male       2823\n",
       "Unmarried       Female     2654\n",
       "                Male        792\n",
       "Wife            Female     1566\n",
       "                Male          2\n",
       "Name: index, dtype: int64"
      ]
     },
     "execution_count": 110,
     "metadata": {},
     "output_type": "execute_result"
    }
   ],
   "source": [
    "df.groupby(['relationship', 'sex'])['index'].count()"
   ]
  },
  {
   "cell_type": "markdown",
   "id": "f413f579",
   "metadata": {},
   "source": [
    "It looks like this means that they are 'husbands' and 'wives'. However, I already have this information in the 'marital.status' column."
   ]
  },
  {
   "cell_type": "code",
   "execution_count": 18,
   "id": "f160f1bc",
   "metadata": {},
   "outputs": [
    {
     "data": {
      "text/plain": [
       "relationship    marital.status       \n",
       "Husband         Married-AF-spouse            9\n",
       "                Married-civ-spouse       13184\n",
       "Not-in-family   Divorced                  2404\n",
       "                Married-civ-spouse          17\n",
       "                Married-spouse-absent      211\n",
       "                Never-married             4706\n",
       "                Separated                  420\n",
       "                Widowed                    547\n",
       "Other-relative  Divorced                   110\n",
       "                Married-AF-spouse            1\n",
       "                Married-civ-spouse         124\n",
       "                Married-spouse-absent       32\n",
       "                Never-married              611\n",
       "                Separated                   55\n",
       "                Widowed                     48\n",
       "Own-child       Divorced                   328\n",
       "                Married-AF-spouse            1\n",
       "                Married-civ-spouse          95\n",
       "                Married-spouse-absent       45\n",
       "                Never-married             4485\n",
       "                Separated                   99\n",
       "                Widowed                     15\n",
       "Unmarried       Divorced                  1601\n",
       "                Married-spouse-absent      130\n",
       "                Never-married              881\n",
       "                Separated                  451\n",
       "                Widowed                    383\n",
       "Wife            Married-AF-spouse           12\n",
       "                Married-civ-spouse        1556\n",
       "Name: index, dtype: int64"
      ]
     },
     "execution_count": 18,
     "metadata": {},
     "output_type": "execute_result"
    }
   ],
   "source": [
    "df.groupby(['relationship', 'marital.status'])['index'].count()"
   ]
  },
  {
   "cell_type": "markdown",
   "id": "799d3cc0",
   "metadata": {},
   "source": [
    "Yep. I'll delete it."
   ]
  },
  {
   "cell_type": "code",
   "execution_count": 111,
   "id": "0fe623c9",
   "metadata": {},
   "outputs": [
    {
     "data": {
      "text/plain": [
       "White                 27816\n",
       "Black                  3124\n",
       "Asian-Pac-Islander     1039\n",
       "Amer-Indian-Eskimo      311\n",
       "Other                   271\n",
       "Name: race, dtype: int64"
      ]
     },
     "execution_count": 111,
     "metadata": {},
     "output_type": "execute_result"
    }
   ],
   "source": [
    "df['race'].value_counts()"
   ]
  },
  {
   "cell_type": "code",
   "execution_count": 112,
   "id": "657adb22",
   "metadata": {},
   "outputs": [
    {
     "data": {
      "text/plain": [
       "White                 0.854274\n",
       "Black                 0.095943\n",
       "Asian-Pac-Islander    0.031909\n",
       "Amer-Indian-Eskimo    0.009551\n",
       "Other                 0.008323\n",
       "Name: race, dtype: float64"
      ]
     },
     "execution_count": 112,
     "metadata": {},
     "output_type": "execute_result"
    }
   ],
   "source": [
    "df['race'].value_counts(1)"
   ]
  },
  {
   "cell_type": "markdown",
   "id": "855012a2",
   "metadata": {},
   "source": [
    "There are much more white people than the rest. Maybe this can be a good `sens. attribute`.\n",
    "\n",
    "One hot encode."
   ]
  },
  {
   "cell_type": "code",
   "execution_count": 113,
   "id": "bdd5bc7b",
   "metadata": {},
   "outputs": [
    {
     "data": {
      "text/plain": [
       "Male      21790\n",
       "Female    10771\n",
       "Name: sex, dtype: int64"
      ]
     },
     "execution_count": 113,
     "metadata": {},
     "output_type": "execute_result"
    }
   ],
   "source": [
    "df['sex'].value_counts()"
   ]
  },
  {
   "cell_type": "code",
   "execution_count": 114,
   "id": "40cb952e",
   "metadata": {},
   "outputs": [
    {
     "data": {
      "text/plain": [
       "Male      0.669205\n",
       "Female    0.330795\n",
       "Name: sex, dtype: float64"
      ]
     },
     "execution_count": 114,
     "metadata": {},
     "output_type": "execute_result"
    }
   ],
   "source": [
    "df['sex'].value_counts(1)"
   ]
  },
  {
   "cell_type": "markdown",
   "id": "f8fde045",
   "metadata": {},
   "source": [
    "There are more men than women. Maybe this can be a good `sens. attribute`."
   ]
  },
  {
   "cell_type": "code",
   "execution_count": 115,
   "id": "c3321008",
   "metadata": {},
   "outputs": [
    {
     "data": {
      "text/plain": [
       "count    32561.000000\n",
       "mean      1077.648844\n",
       "std       7385.292085\n",
       "min          0.000000\n",
       "25%          0.000000\n",
       "50%          0.000000\n",
       "75%          0.000000\n",
       "max      99999.000000\n",
       "Name: capital.gain, dtype: float64"
      ]
     },
     "execution_count": 115,
     "metadata": {},
     "output_type": "execute_result"
    }
   ],
   "source": [
    "df['capital.gain'].describe()"
   ]
  },
  {
   "cell_type": "code",
   "execution_count": 116,
   "id": "895c4e1b",
   "metadata": {},
   "outputs": [
    {
     "data": {
      "text/plain": [
       "0        29849\n",
       "15024      347\n",
       "7688       284\n",
       "7298       246\n",
       "99999      159\n",
       "5178        97\n",
       "3103        97\n",
       "4386        70\n",
       "5013        69\n",
       "8614        55\n",
       "Name: capital.gain, dtype: int64"
      ]
     },
     "execution_count": 116,
     "metadata": {},
     "output_type": "execute_result"
    }
   ],
   "source": [
    "df['capital.gain'].value_counts().head(10)"
   ]
  },
  {
   "cell_type": "code",
   "execution_count": 117,
   "id": "568adfa0",
   "metadata": {},
   "outputs": [
    {
     "data": {
      "text/plain": [
       "0        0.916710\n",
       "15024    0.010657\n",
       "7688     0.008722\n",
       "7298     0.007555\n",
       "99999    0.004883\n",
       "5178     0.002979\n",
       "3103     0.002979\n",
       "4386     0.002150\n",
       "5013     0.002119\n",
       "8614     0.001689\n",
       "Name: capital.gain, dtype: float64"
      ]
     },
     "execution_count": 117,
     "metadata": {},
     "output_type": "execute_result"
    }
   ],
   "source": [
    "df['capital.gain'].value_counts(1).head(10)"
   ]
  },
  {
   "cell_type": "markdown",
   "id": "4c6a3908",
   "metadata": {},
   "source": [
    "Have to know what this column mean later. But why are there much more zeroes than the rest?"
   ]
  },
  {
   "cell_type": "markdown",
   "id": "35ae9660",
   "metadata": {},
   "source": [
    "I googled it and I got: \"Capital gain refers to an increase in a capital asset's value and is considered to be realized when the asset is sold\". This way, it may be an important feature for the model to use."
   ]
  },
  {
   "cell_type": "code",
   "execution_count": 21,
   "id": "57a80ecd",
   "metadata": {},
   "outputs": [
    {
     "data": {
      "text/plain": [
       "count    32561.000000\n",
       "mean        87.303830\n",
       "std        402.960219\n",
       "min          0.000000\n",
       "25%          0.000000\n",
       "50%          0.000000\n",
       "75%          0.000000\n",
       "max       4356.000000\n",
       "Name: capital.loss, dtype: float64"
      ]
     },
     "execution_count": 21,
     "metadata": {},
     "output_type": "execute_result"
    }
   ],
   "source": [
    "df['capital.loss'].describe()"
   ]
  },
  {
   "cell_type": "code",
   "execution_count": 23,
   "id": "5fff984b",
   "metadata": {},
   "outputs": [
    {
     "data": {
      "text/plain": [
       "0       31042\n",
       "1902      202\n",
       "1977      168\n",
       "1887      159\n",
       "1848       51\n",
       "1485       51\n",
       "2415       49\n",
       "1602       47\n",
       "1740       42\n",
       "1590       40\n",
       "Name: capital.loss, dtype: int64"
      ]
     },
     "execution_count": 23,
     "metadata": {},
     "output_type": "execute_result"
    }
   ],
   "source": [
    "df['capital.loss'].value_counts().head(10)"
   ]
  },
  {
   "cell_type": "code",
   "execution_count": 22,
   "id": "5d9874b0",
   "metadata": {},
   "outputs": [
    {
     "data": {
      "text/plain": [
       "0       0.953349\n",
       "1902    0.006204\n",
       "1977    0.005160\n",
       "1887    0.004883\n",
       "1848    0.001566\n",
       "1485    0.001566\n",
       "2415    0.001505\n",
       "1602    0.001443\n",
       "1740    0.001290\n",
       "1590    0.001228\n",
       "Name: capital.loss, dtype: float64"
      ]
     },
     "execution_count": 22,
     "metadata": {},
     "output_type": "execute_result"
    }
   ],
   "source": [
    "df['capital.loss'].value_counts(1).head(10)"
   ]
  },
  {
   "cell_type": "markdown",
   "id": "28c1a0cc",
   "metadata": {},
   "source": [
    "Same as above. I can normalize them both and use the value as raw feature."
   ]
  },
  {
   "cell_type": "code",
   "execution_count": 36,
   "id": "9d4b6163",
   "metadata": {},
   "outputs": [
    {
     "data": {
      "text/plain": [
       "40    0.467338\n",
       "50    0.086576\n",
       "45    0.056018\n",
       "60    0.045300\n",
       "35    0.039833\n",
       "20    0.037591\n",
       "30    0.035288\n",
       "55    0.021314\n",
       "25    0.020700\n",
       "48    0.015878\n",
       "Name: hours.per.week, dtype: float64"
      ]
     },
     "execution_count": 36,
     "metadata": {},
     "output_type": "execute_result"
    }
   ],
   "source": [
    "df['hours.per.week'].value_counts(1).head(10)"
   ]
  },
  {
   "cell_type": "markdown",
   "id": "135587cf",
   "metadata": {},
   "source": [
    "I can turn them into ordinal features and then one hot encode them."
   ]
  },
  {
   "cell_type": "code",
   "execution_count": 38,
   "id": "9fe3d9ac",
   "metadata": {},
   "outputs": [
    {
     "data": {
      "text/plain": [
       "United-States                 0.895857\n",
       "Mexico                        0.019748\n",
       "?                             0.017905\n",
       "Philippines                   0.006081\n",
       "Germany                       0.004207\n",
       "Canada                        0.003716\n",
       "Puerto-Rico                   0.003501\n",
       "El-Salvador                   0.003255\n",
       "India                         0.003071\n",
       "Cuba                          0.002918\n",
       "England                       0.002764\n",
       "Jamaica                       0.002488\n",
       "South                         0.002457\n",
       "China                         0.002303\n",
       "Italy                         0.002242\n",
       "Dominican-Republic            0.002150\n",
       "Vietnam                       0.002058\n",
       "Guatemala                     0.001966\n",
       "Japan                         0.001904\n",
       "Poland                        0.001843\n",
       "Columbia                      0.001812\n",
       "Taiwan                        0.001566\n",
       "Haiti                         0.001351\n",
       "Iran                          0.001321\n",
       "Portugal                      0.001136\n",
       "Nicaragua                     0.001044\n",
       "Peru                          0.000952\n",
       "France                        0.000891\n",
       "Greece                        0.000891\n",
       "Ecuador                       0.000860\n",
       "Ireland                       0.000737\n",
       "Hong                          0.000614\n",
       "Trinadad&Tobago               0.000584\n",
       "Cambodia                      0.000584\n",
       "Laos                          0.000553\n",
       "Thailand                      0.000553\n",
       "Yugoslavia                    0.000491\n",
       "Outlying-US(Guam-USVI-etc)    0.000430\n",
       "Honduras                      0.000399\n",
       "Hungary                       0.000399\n",
       "Scotland                      0.000369\n",
       "Holand-Netherlands            0.000031\n",
       "Name: native.country, dtype: float64"
      ]
     },
     "execution_count": 38,
     "metadata": {},
     "output_type": "execute_result"
    }
   ],
   "source": [
    "df['native.country'].value_counts(1)"
   ]
  },
  {
   "cell_type": "code",
   "execution_count": 39,
   "id": "bfbeccb3",
   "metadata": {},
   "outputs": [
    {
     "data": {
      "text/plain": [
       "42"
      ]
     },
     "execution_count": 39,
     "metadata": {},
     "output_type": "execute_result"
    }
   ],
   "source": [
    "df['native.country'].nunique()"
   ]
  },
  {
   "cell_type": "markdown",
   "id": "fab49ff5",
   "metadata": {},
   "source": [
    "Much more people from USA. This can also be a `sens attribute`.\n",
    "\n",
    "I can turn this into binary (if from USA 1, if not 0) or separate by region and then OHE them (NA, SA, Euro, Africa, Asia, etc). "
   ]
  },
  {
   "cell_type": "code",
   "execution_count": 40,
   "id": "fb2b9120",
   "metadata": {},
   "outputs": [
    {
     "data": {
      "text/plain": [
       "<=50K    24720\n",
       ">50K      7841\n",
       "Name: income, dtype: int64"
      ]
     },
     "execution_count": 40,
     "metadata": {},
     "output_type": "execute_result"
    }
   ],
   "source": [
    "df['income'].value_counts()"
   ]
  },
  {
   "cell_type": "markdown",
   "id": "4b6e96da",
   "metadata": {},
   "source": [
    "I believe this is the label we can use. 1 would be >50K and 0 would be <=50K."
   ]
  },
  {
   "cell_type": "markdown",
   "id": "33a38f15",
   "metadata": {},
   "source": [
    "## Check what does the '?' mean"
   ]
  },
  {
   "cell_type": "code",
   "execution_count": 41,
   "id": "9662e007",
   "metadata": {},
   "outputs": [
    {
     "data": {
      "text/plain": [
       "index             0.000000\n",
       "age               0.000000\n",
       "workclass         0.056386\n",
       "fnlwgt            0.000000\n",
       "education         0.000000\n",
       "education.num     0.000000\n",
       "marital.status    0.000000\n",
       "occupation        0.056601\n",
       "relationship      0.000000\n",
       "race              0.000000\n",
       "sex               0.000000\n",
       "capital.gain      0.000000\n",
       "capital.loss      0.000000\n",
       "hours.per.week    0.000000\n",
       "native.country    0.017905\n",
       "income            0.000000\n",
       "dtype: float64"
      ]
     },
     "execution_count": 41,
     "metadata": {},
     "output_type": "execute_result"
    }
   ],
   "source": [
    "df[df=='?'].count()/df.shape[0]"
   ]
  },
  {
   "cell_type": "markdown",
   "id": "9ac0c7ac",
   "metadata": {},
   "source": [
    "This is the percentage of appearances of '?' value. Maybe this can be considered a null value, this way I can just drop the rows with this value so I won't have to deal with them."
   ]
  },
  {
   "cell_type": "markdown",
   "id": "0f21fd07",
   "metadata": {},
   "source": [
    "# Evaluate bias in the original dataset"
   ]
  },
  {
   "cell_type": "markdown",
   "id": "8e786f04",
   "metadata": {},
   "source": [
    "The columns selected as good `sens attr` were:\n",
    "- age\n",
    "- sex\n",
    "- race\n",
    "- native.country\n",
    "\n",
    "For each, we'll run the fairness metric `disparate_impact_ratio` which can be applied BEFORE training a model. <br><br>\n",
    "<center>--- FORMULA ---</center>\n",
    "<center>P_unprivileged_class(1)/P_privileged_class(1) (_Probability of the unprivileged class to receive a potitive outcome  divided by the probability of the privileged class to receive a potitive outcome_)</center>\n",
    "<br>\n",
    "\n",
    "How to interpret this metric:\n",
    "- Its output value ranges from 0 to 1\n",
    "- The higher its value fairer is your dataset/model related to that protected attribute. \n",
    "- Despite 1 being the perfect value for it (which means your dataset/model is fairest), a value greater than 0.8 is considered an acceptable bias."
   ]
  },
  {
   "cell_type": "markdown",
   "id": "e395508f",
   "metadata": {},
   "source": [
    "Let's start with 'sex' column."
   ]
  },
  {
   "cell_type": "markdown",
   "id": "4be13dff",
   "metadata": {},
   "source": [
    "Import the AIF360 module which contains the metrics."
   ]
  },
  {
   "cell_type": "code",
   "execution_count": 96,
   "id": "bd2e439d",
   "metadata": {},
   "outputs": [],
   "source": [
    "from aif360.sklearn import metrics as mt"
   ]
  },
  {
   "cell_type": "markdown",
   "id": "da59821b",
   "metadata": {},
   "source": [
    "But first, we need to configure our dataset to the input accepted by the library. \n",
    "\n",
    "To use AIF360 with sklearn, we need to:\n",
    "1. Binarize the sensitive attribute with: 1 being set to be the privileged group and 0 as the unprivileged.\n",
    "2. Binarize the label column with: 1 being the positive outcome and 0 else.\n",
    "3. Turn the sensitive attribute column into the index of the dataset"
   ]
  },
  {
   "cell_type": "markdown",
   "id": "510bec1a",
   "metadata": {},
   "source": [
    "Let's first binarize the y label column."
   ]
  },
  {
   "cell_type": "code",
   "execution_count": 126,
   "id": "1f7ab1b3",
   "metadata": {},
   "outputs": [],
   "source": [
    "df['income'] = df['income'].apply(lambda x: 1 if x=='>50K' else 0)"
   ]
  },
  {
   "cell_type": "markdown",
   "id": "9b327dd4",
   "metadata": {},
   "source": [
    "Now let's binarize the sens. attr column."
   ]
  },
  {
   "cell_type": "code",
   "execution_count": 127,
   "id": "e194fa80",
   "metadata": {},
   "outputs": [],
   "source": [
    "df['sex'] = df['sex'].apply(lambda x: 1 if x=='Male' else 0)"
   ]
  },
  {
   "cell_type": "markdown",
   "id": "07f2d89d",
   "metadata": {},
   "source": [
    "Now, for the purpose of readibility, let's separate these two into one variable `y`."
   ]
  },
  {
   "cell_type": "code",
   "execution_count": 128,
   "id": "e8d293e2",
   "metadata": {},
   "outputs": [],
   "source": [
    "y = df.set_index('sex')['income']"
   ]
  },
  {
   "cell_type": "code",
   "execution_count": 129,
   "id": "ca27dfef",
   "metadata": {},
   "outputs": [
    {
     "data": {
      "text/plain": [
       "0    24720\n",
       "1     7841\n",
       "Name: income, dtype: int64"
      ]
     },
     "execution_count": 129,
     "metadata": {},
     "output_type": "execute_result"
    }
   ],
   "source": [
    "y.value_counts()"
   ]
  },
  {
   "cell_type": "code",
   "execution_count": 130,
   "id": "6bebc334",
   "metadata": {},
   "outputs": [
    {
     "data": {
      "text/plain": [
       "0.3580225496813511"
      ]
     },
     "execution_count": 130,
     "metadata": {},
     "output_type": "execute_result"
    }
   ],
   "source": [
    "mt.disparate_impact_ratio(y, prot_attr='sex')"
   ]
  },
  {
   "cell_type": "markdown",
   "id": "8a35ea1a",
   "metadata": {},
   "source": [
    "The metric presents a really low value for this attribute. Far even from 0.8 which is the acceptable value. "
   ]
  },
  {
   "cell_type": "markdown",
   "id": "b754d153",
   "metadata": {},
   "source": [
    "Now, since we are going to repeat this for the other protected attribute columns, let's create this function to make the development easier. "
   ]
  },
  {
   "cell_type": "code",
   "execution_count": 131,
   "id": "b0af03eb",
   "metadata": {},
   "outputs": [],
   "source": [
    "def set_sens_attr(df, label_col, prot_tuple):\n",
    "    \"\"\"To use AIF360 with sklearn, we need to turn the sensitive \n",
    "    attribute column into the index of the dataset. This function will\n",
    "    binarize the prot_attr column and set it as the index. \n",
    "    \n",
    "    :param df: [pd.DataFrame]\n",
    "    :param label_col: [str], the y label column name \n",
    "    :param prot_tuple: [tuple], tuple containing the protected attribute \n",
    "        column name and the threshold to make the binarization. Apply\n",
    "        needed configurations depending if the threshold is a category\n",
    "        or a number\n",
    "    :return y: [pd.DataFrame], a dataframe consisting of only the label\n",
    "        column and the sensitive attribute set as index\n",
    "    \"\"\"\n",
    "    \n",
    "    threshold = prot_tuple[1]\n",
    "    prot_attr = prot_tuple[0]\n",
    "    df = df.copy()\n",
    "    \n",
    "    if isinstance(threshold, str):\n",
    "        df[prot_attr] = df[prot_attr].apply(lambda x: 1 if x==threshold else 0)\n",
    "    else:\n",
    "        df[prot_attr] = df[prot_attr].apply(lambda x: 1 if x>=threshold else 0)\n",
    "    \n",
    "    y = df.set_index(prot_attr)[label_col]\n",
    "    \n",
    "    return y"
   ]
  },
  {
   "cell_type": "markdown",
   "id": "997a5812",
   "metadata": {},
   "source": [
    "Let's do it for 'race'."
   ]
  },
  {
   "cell_type": "code",
   "execution_count": 132,
   "id": "5da50c3b",
   "metadata": {},
   "outputs": [],
   "source": [
    "y = set_sens_attr(df, 'income', ('race', 'White'))"
   ]
  },
  {
   "cell_type": "code",
   "execution_count": 133,
   "id": "56cfcc52",
   "metadata": {},
   "outputs": [
    {
     "data": {
      "text/plain": [
       "0.5963484039832201"
      ]
     },
     "execution_count": 133,
     "metadata": {},
     "output_type": "execute_result"
    }
   ],
   "source": [
    "mt.disparate_impact_ratio(y)"
   ]
  },
  {
   "cell_type": "markdown",
   "id": "701d18f5",
   "metadata": {},
   "source": [
    "The metric for \"race\" is higher than for \"sex\", however, it still shows that the \"race\" is an attribute that has a lot of bias."
   ]
  },
  {
   "cell_type": "markdown",
   "id": "1a3b54f9",
   "metadata": {},
   "source": [
    "Let's do it for 'native.country'.\n"
   ]
  },
  {
   "cell_type": "code",
   "execution_count": 134,
   "id": "5b01eecb",
   "metadata": {},
   "outputs": [],
   "source": [
    "y = set_sens_attr(df, 'income', ('native.country', 'United-States'))"
   ]
  },
  {
   "cell_type": "code",
   "execution_count": 135,
   "id": "2af7a5e4",
   "metadata": {},
   "outputs": [
    {
     "data": {
      "text/plain": [
       "0.8037180456803203"
      ]
     },
     "execution_count": 135,
     "metadata": {},
     "output_type": "execute_result"
    }
   ],
   "source": [
    "mt.disparate_impact_ratio(y)"
   ]
  },
  {
   "cell_type": "markdown",
   "id": "af69367c",
   "metadata": {},
   "source": [
    "This feature presents an acceptable score, this way I will not pay attention to it in bias mitigation."
   ]
  },
  {
   "cell_type": "markdown",
   "id": "f93d0d50",
   "metadata": {},
   "source": [
    "# Transform data"
   ]
  },
  {
   "cell_type": "markdown",
   "id": "21386345",
   "metadata": {},
   "source": [
    "Let's apply the transformations I listed on the Exploration section."
   ]
  },
  {
   "cell_type": "code",
   "execution_count": 263,
   "id": "a7ba5c0f",
   "metadata": {},
   "outputs": [],
   "source": [
    "transformed = df.copy().drop('index', axis=1)"
   ]
  },
  {
   "cell_type": "markdown",
   "id": "7cfc6474",
   "metadata": {},
   "source": [
    "Clean '?' and nan values."
   ]
  },
  {
   "cell_type": "code",
   "execution_count": 264,
   "id": "b8d2850f",
   "metadata": {},
   "outputs": [],
   "source": [
    "transformed = transformed[transformed!='?']\n",
    "transformed = transformed.dropna()"
   ]
  },
  {
   "cell_type": "markdown",
   "id": "ee43e726",
   "metadata": {},
   "source": [
    "Drop not needed columns."
   ]
  },
  {
   "cell_type": "code",
   "execution_count": 265,
   "id": "e5bc6469",
   "metadata": {},
   "outputs": [],
   "source": [
    "drop_cols = ['fnlwgt', 'education']\n",
    "transformed = transformed.drop(drop_cols, axis=1)"
   ]
  },
  {
   "cell_type": "markdown",
   "id": "2fb45d95",
   "metadata": {},
   "source": [
    "One hot encode the columns."
   ]
  },
  {
   "cell_type": "code",
   "execution_count": 266,
   "id": "e22e8817",
   "metadata": {},
   "outputs": [],
   "source": [
    "ohe_cols = ['workclass', 'marital.status',\n",
    "           'occupation', 'relationship']\n",
    "for col in ohe_cols:\n",
    "    transformed = transformed.join(pd.get_dummies(transformed[col], \n",
    "                                                  prefix=col))\\\n",
    "                                                .drop(col, axis=1)"
   ]
  },
  {
   "cell_type": "markdown",
   "id": "02d00bb5",
   "metadata": {},
   "source": [
    "Normalize other columns."
   ]
  },
  {
   "cell_type": "code",
   "execution_count": 267,
   "id": "d70574d9",
   "metadata": {},
   "outputs": [],
   "source": [
    "norm_cols = ['capital.loss', 'capital.gain']\n",
    "for col in norm_cols:\n",
    "    transformed[col] = transformed[col]/transformed[col].max()"
   ]
  },
  {
   "cell_type": "markdown",
   "id": "eb36e6a7",
   "metadata": {},
   "source": [
    "Binarize columns."
   ]
  },
  {
   "cell_type": "code",
   "execution_count": 268,
   "id": "9fb99ad4",
   "metadata": {},
   "outputs": [],
   "source": [
    "transformed['sex'] = transformed['sex'].apply(lambda x: 1 if x=='Male' else 0)\n",
    "transformed['race'] = transformed['race'].apply(lambda x: 1 if x=='White' else 0)\n",
    "transformed['native.country'] = transformed['native.country'].apply(lambda x: 1 if x=='United-States' else 0)\n",
    "transformed['income'] = transformed['income'].apply(lambda x: 1 if x=='>50K' else 0)"
   ]
  },
  {
   "cell_type": "code",
   "execution_count": 269,
   "id": "15b23c7a",
   "metadata": {},
   "outputs": [
    {
     "data": {
      "text/html": [
       "<div>\n",
       "<style scoped>\n",
       "    .dataframe tbody tr th:only-of-type {\n",
       "        vertical-align: middle;\n",
       "    }\n",
       "\n",
       "    .dataframe tbody tr th {\n",
       "        vertical-align: top;\n",
       "    }\n",
       "\n",
       "    .dataframe thead th {\n",
       "        text-align: right;\n",
       "    }\n",
       "</style>\n",
       "<table border=\"1\" class=\"dataframe\">\n",
       "  <thead>\n",
       "    <tr style=\"text-align: right;\">\n",
       "      <th></th>\n",
       "      <th>age</th>\n",
       "      <th>education.num</th>\n",
       "      <th>race</th>\n",
       "      <th>sex</th>\n",
       "      <th>capital.gain</th>\n",
       "      <th>capital.loss</th>\n",
       "      <th>hours.per.week</th>\n",
       "      <th>native.country</th>\n",
       "      <th>income</th>\n",
       "      <th>workclass_Federal-gov</th>\n",
       "      <th>workclass_Local-gov</th>\n",
       "      <th>workclass_Private</th>\n",
       "      <th>workclass_Self-emp-inc</th>\n",
       "      <th>workclass_Self-emp-not-inc</th>\n",
       "      <th>workclass_State-gov</th>\n",
       "      <th>workclass_Without-pay</th>\n",
       "      <th>marital.status_Divorced</th>\n",
       "      <th>marital.status_Married-AF-spouse</th>\n",
       "      <th>marital.status_Married-civ-spouse</th>\n",
       "      <th>marital.status_Married-spouse-absent</th>\n",
       "      <th>marital.status_Never-married</th>\n",
       "      <th>marital.status_Separated</th>\n",
       "      <th>marital.status_Widowed</th>\n",
       "      <th>occupation_Adm-clerical</th>\n",
       "      <th>occupation_Armed-Forces</th>\n",
       "      <th>occupation_Craft-repair</th>\n",
       "      <th>occupation_Exec-managerial</th>\n",
       "      <th>occupation_Farming-fishing</th>\n",
       "      <th>occupation_Handlers-cleaners</th>\n",
       "      <th>occupation_Machine-op-inspct</th>\n",
       "      <th>occupation_Other-service</th>\n",
       "      <th>occupation_Priv-house-serv</th>\n",
       "      <th>occupation_Prof-specialty</th>\n",
       "      <th>occupation_Protective-serv</th>\n",
       "      <th>occupation_Sales</th>\n",
       "      <th>occupation_Tech-support</th>\n",
       "      <th>occupation_Transport-moving</th>\n",
       "      <th>relationship_Husband</th>\n",
       "      <th>relationship_Not-in-family</th>\n",
       "      <th>relationship_Other-relative</th>\n",
       "      <th>relationship_Own-child</th>\n",
       "      <th>relationship_Unmarried</th>\n",
       "      <th>relationship_Wife</th>\n",
       "    </tr>\n",
       "  </thead>\n",
       "  <tbody>\n",
       "    <tr>\n",
       "      <th>1</th>\n",
       "      <td>82</td>\n",
       "      <td>9</td>\n",
       "      <td>1</td>\n",
       "      <td>0</td>\n",
       "      <td>0.0</td>\n",
       "      <td>1.000000</td>\n",
       "      <td>18</td>\n",
       "      <td>1</td>\n",
       "      <td>0</td>\n",
       "      <td>0</td>\n",
       "      <td>0</td>\n",
       "      <td>1</td>\n",
       "      <td>0</td>\n",
       "      <td>0</td>\n",
       "      <td>0</td>\n",
       "      <td>0</td>\n",
       "      <td>0</td>\n",
       "      <td>0</td>\n",
       "      <td>0</td>\n",
       "      <td>0</td>\n",
       "      <td>0</td>\n",
       "      <td>0</td>\n",
       "      <td>1</td>\n",
       "      <td>0</td>\n",
       "      <td>0</td>\n",
       "      <td>0</td>\n",
       "      <td>1</td>\n",
       "      <td>0</td>\n",
       "      <td>0</td>\n",
       "      <td>0</td>\n",
       "      <td>0</td>\n",
       "      <td>0</td>\n",
       "      <td>0</td>\n",
       "      <td>0</td>\n",
       "      <td>0</td>\n",
       "      <td>0</td>\n",
       "      <td>0</td>\n",
       "      <td>0</td>\n",
       "      <td>1</td>\n",
       "      <td>0</td>\n",
       "      <td>0</td>\n",
       "      <td>0</td>\n",
       "      <td>0</td>\n",
       "    </tr>\n",
       "    <tr>\n",
       "      <th>3</th>\n",
       "      <td>54</td>\n",
       "      <td>4</td>\n",
       "      <td>1</td>\n",
       "      <td>0</td>\n",
       "      <td>0.0</td>\n",
       "      <td>0.895317</td>\n",
       "      <td>40</td>\n",
       "      <td>1</td>\n",
       "      <td>0</td>\n",
       "      <td>0</td>\n",
       "      <td>0</td>\n",
       "      <td>1</td>\n",
       "      <td>0</td>\n",
       "      <td>0</td>\n",
       "      <td>0</td>\n",
       "      <td>0</td>\n",
       "      <td>1</td>\n",
       "      <td>0</td>\n",
       "      <td>0</td>\n",
       "      <td>0</td>\n",
       "      <td>0</td>\n",
       "      <td>0</td>\n",
       "      <td>0</td>\n",
       "      <td>0</td>\n",
       "      <td>0</td>\n",
       "      <td>0</td>\n",
       "      <td>0</td>\n",
       "      <td>0</td>\n",
       "      <td>0</td>\n",
       "      <td>1</td>\n",
       "      <td>0</td>\n",
       "      <td>0</td>\n",
       "      <td>0</td>\n",
       "      <td>0</td>\n",
       "      <td>0</td>\n",
       "      <td>0</td>\n",
       "      <td>0</td>\n",
       "      <td>0</td>\n",
       "      <td>0</td>\n",
       "      <td>0</td>\n",
       "      <td>0</td>\n",
       "      <td>1</td>\n",
       "      <td>0</td>\n",
       "    </tr>\n",
       "    <tr>\n",
       "      <th>4</th>\n",
       "      <td>41</td>\n",
       "      <td>10</td>\n",
       "      <td>1</td>\n",
       "      <td>0</td>\n",
       "      <td>0.0</td>\n",
       "      <td>0.895317</td>\n",
       "      <td>40</td>\n",
       "      <td>1</td>\n",
       "      <td>0</td>\n",
       "      <td>0</td>\n",
       "      <td>0</td>\n",
       "      <td>1</td>\n",
       "      <td>0</td>\n",
       "      <td>0</td>\n",
       "      <td>0</td>\n",
       "      <td>0</td>\n",
       "      <td>0</td>\n",
       "      <td>0</td>\n",
       "      <td>0</td>\n",
       "      <td>0</td>\n",
       "      <td>0</td>\n",
       "      <td>1</td>\n",
       "      <td>0</td>\n",
       "      <td>0</td>\n",
       "      <td>0</td>\n",
       "      <td>0</td>\n",
       "      <td>0</td>\n",
       "      <td>0</td>\n",
       "      <td>0</td>\n",
       "      <td>0</td>\n",
       "      <td>0</td>\n",
       "      <td>0</td>\n",
       "      <td>1</td>\n",
       "      <td>0</td>\n",
       "      <td>0</td>\n",
       "      <td>0</td>\n",
       "      <td>0</td>\n",
       "      <td>0</td>\n",
       "      <td>0</td>\n",
       "      <td>0</td>\n",
       "      <td>1</td>\n",
       "      <td>0</td>\n",
       "      <td>0</td>\n",
       "    </tr>\n",
       "    <tr>\n",
       "      <th>5</th>\n",
       "      <td>34</td>\n",
       "      <td>9</td>\n",
       "      <td>1</td>\n",
       "      <td>0</td>\n",
       "      <td>0.0</td>\n",
       "      <td>0.865473</td>\n",
       "      <td>45</td>\n",
       "      <td>1</td>\n",
       "      <td>0</td>\n",
       "      <td>0</td>\n",
       "      <td>0</td>\n",
       "      <td>1</td>\n",
       "      <td>0</td>\n",
       "      <td>0</td>\n",
       "      <td>0</td>\n",
       "      <td>0</td>\n",
       "      <td>1</td>\n",
       "      <td>0</td>\n",
       "      <td>0</td>\n",
       "      <td>0</td>\n",
       "      <td>0</td>\n",
       "      <td>0</td>\n",
       "      <td>0</td>\n",
       "      <td>0</td>\n",
       "      <td>0</td>\n",
       "      <td>0</td>\n",
       "      <td>0</td>\n",
       "      <td>0</td>\n",
       "      <td>0</td>\n",
       "      <td>0</td>\n",
       "      <td>1</td>\n",
       "      <td>0</td>\n",
       "      <td>0</td>\n",
       "      <td>0</td>\n",
       "      <td>0</td>\n",
       "      <td>0</td>\n",
       "      <td>0</td>\n",
       "      <td>0</td>\n",
       "      <td>0</td>\n",
       "      <td>0</td>\n",
       "      <td>0</td>\n",
       "      <td>1</td>\n",
       "      <td>0</td>\n",
       "    </tr>\n",
       "    <tr>\n",
       "      <th>6</th>\n",
       "      <td>38</td>\n",
       "      <td>6</td>\n",
       "      <td>1</td>\n",
       "      <td>1</td>\n",
       "      <td>0.0</td>\n",
       "      <td>0.865473</td>\n",
       "      <td>40</td>\n",
       "      <td>1</td>\n",
       "      <td>0</td>\n",
       "      <td>0</td>\n",
       "      <td>0</td>\n",
       "      <td>1</td>\n",
       "      <td>0</td>\n",
       "      <td>0</td>\n",
       "      <td>0</td>\n",
       "      <td>0</td>\n",
       "      <td>0</td>\n",
       "      <td>0</td>\n",
       "      <td>0</td>\n",
       "      <td>0</td>\n",
       "      <td>0</td>\n",
       "      <td>1</td>\n",
       "      <td>0</td>\n",
       "      <td>1</td>\n",
       "      <td>0</td>\n",
       "      <td>0</td>\n",
       "      <td>0</td>\n",
       "      <td>0</td>\n",
       "      <td>0</td>\n",
       "      <td>0</td>\n",
       "      <td>0</td>\n",
       "      <td>0</td>\n",
       "      <td>0</td>\n",
       "      <td>0</td>\n",
       "      <td>0</td>\n",
       "      <td>0</td>\n",
       "      <td>0</td>\n",
       "      <td>0</td>\n",
       "      <td>0</td>\n",
       "      <td>0</td>\n",
       "      <td>0</td>\n",
       "      <td>1</td>\n",
       "      <td>0</td>\n",
       "    </tr>\n",
       "  </tbody>\n",
       "</table>\n",
       "</div>"
      ],
      "text/plain": [
       "   age  education.num  race  sex  capital.gain  capital.loss  hours.per.week  \\\n",
       "1   82              9     1    0           0.0      1.000000              18   \n",
       "3   54              4     1    0           0.0      0.895317              40   \n",
       "4   41             10     1    0           0.0      0.895317              40   \n",
       "5   34              9     1    0           0.0      0.865473              45   \n",
       "6   38              6     1    1           0.0      0.865473              40   \n",
       "\n",
       "   native.country  income  workclass_Federal-gov  workclass_Local-gov  \\\n",
       "1               1       0                      0                    0   \n",
       "3               1       0                      0                    0   \n",
       "4               1       0                      0                    0   \n",
       "5               1       0                      0                    0   \n",
       "6               1       0                      0                    0   \n",
       "\n",
       "   workclass_Private  workclass_Self-emp-inc  workclass_Self-emp-not-inc  \\\n",
       "1                  1                       0                           0   \n",
       "3                  1                       0                           0   \n",
       "4                  1                       0                           0   \n",
       "5                  1                       0                           0   \n",
       "6                  1                       0                           0   \n",
       "\n",
       "   workclass_State-gov  workclass_Without-pay  marital.status_Divorced  \\\n",
       "1                    0                      0                        0   \n",
       "3                    0                      0                        1   \n",
       "4                    0                      0                        0   \n",
       "5                    0                      0                        1   \n",
       "6                    0                      0                        0   \n",
       "\n",
       "   marital.status_Married-AF-spouse  marital.status_Married-civ-spouse  \\\n",
       "1                                 0                                  0   \n",
       "3                                 0                                  0   \n",
       "4                                 0                                  0   \n",
       "5                                 0                                  0   \n",
       "6                                 0                                  0   \n",
       "\n",
       "   marital.status_Married-spouse-absent  marital.status_Never-married  \\\n",
       "1                                     0                             0   \n",
       "3                                     0                             0   \n",
       "4                                     0                             0   \n",
       "5                                     0                             0   \n",
       "6                                     0                             0   \n",
       "\n",
       "   marital.status_Separated  marital.status_Widowed  occupation_Adm-clerical  \\\n",
       "1                         0                       1                        0   \n",
       "3                         0                       0                        0   \n",
       "4                         1                       0                        0   \n",
       "5                         0                       0                        0   \n",
       "6                         1                       0                        1   \n",
       "\n",
       "   occupation_Armed-Forces  occupation_Craft-repair  \\\n",
       "1                        0                        0   \n",
       "3                        0                        0   \n",
       "4                        0                        0   \n",
       "5                        0                        0   \n",
       "6                        0                        0   \n",
       "\n",
       "   occupation_Exec-managerial  occupation_Farming-fishing  \\\n",
       "1                           1                           0   \n",
       "3                           0                           0   \n",
       "4                           0                           0   \n",
       "5                           0                           0   \n",
       "6                           0                           0   \n",
       "\n",
       "   occupation_Handlers-cleaners  occupation_Machine-op-inspct  \\\n",
       "1                             0                             0   \n",
       "3                             0                             1   \n",
       "4                             0                             0   \n",
       "5                             0                             0   \n",
       "6                             0                             0   \n",
       "\n",
       "   occupation_Other-service  occupation_Priv-house-serv  \\\n",
       "1                         0                           0   \n",
       "3                         0                           0   \n",
       "4                         0                           0   \n",
       "5                         1                           0   \n",
       "6                         0                           0   \n",
       "\n",
       "   occupation_Prof-specialty  occupation_Protective-serv  occupation_Sales  \\\n",
       "1                          0                           0                 0   \n",
       "3                          0                           0                 0   \n",
       "4                          1                           0                 0   \n",
       "5                          0                           0                 0   \n",
       "6                          0                           0                 0   \n",
       "\n",
       "   occupation_Tech-support  occupation_Transport-moving  relationship_Husband  \\\n",
       "1                        0                            0                     0   \n",
       "3                        0                            0                     0   \n",
       "4                        0                            0                     0   \n",
       "5                        0                            0                     0   \n",
       "6                        0                            0                     0   \n",
       "\n",
       "   relationship_Not-in-family  relationship_Other-relative  \\\n",
       "1                           1                            0   \n",
       "3                           0                            0   \n",
       "4                           0                            0   \n",
       "5                           0                            0   \n",
       "6                           0                            0   \n",
       "\n",
       "   relationship_Own-child  relationship_Unmarried  relationship_Wife  \n",
       "1                       0                       0                  0  \n",
       "3                       0                       1                  0  \n",
       "4                       1                       0                  0  \n",
       "5                       0                       1                  0  \n",
       "6                       0                       1                  0  "
      ]
     },
     "execution_count": 269,
     "metadata": {},
     "output_type": "execute_result"
    }
   ],
   "source": [
    "transformed.head()"
   ]
  },
  {
   "cell_type": "code",
   "execution_count": 270,
   "id": "7ff82d86",
   "metadata": {},
   "outputs": [
    {
     "data": {
      "text/plain": [
       "(30162, 43)"
      ]
     },
     "execution_count": 270,
     "metadata": {},
     "output_type": "execute_result"
    }
   ],
   "source": [
    "transformed.shape"
   ]
  },
  {
   "cell_type": "markdown",
   "id": "9c790f18",
   "metadata": {},
   "source": [
    "I got 43 features for my model. Let's just quick explore this data."
   ]
  },
  {
   "cell_type": "markdown",
   "id": "5c4f1a41",
   "metadata": {},
   "source": [
    "# Explore transformed data"
   ]
  },
  {
   "cell_type": "code",
   "execution_count": 54,
   "id": "364f77e3",
   "metadata": {},
   "outputs": [
    {
     "data": {
      "text/html": [
       "<div>\n",
       "<style scoped>\n",
       "    .dataframe tbody tr th:only-of-type {\n",
       "        vertical-align: middle;\n",
       "    }\n",
       "\n",
       "    .dataframe tbody tr th {\n",
       "        vertical-align: top;\n",
       "    }\n",
       "\n",
       "    .dataframe thead th {\n",
       "        text-align: right;\n",
       "    }\n",
       "</style>\n",
       "<table border=\"1\" class=\"dataframe\">\n",
       "  <thead>\n",
       "    <tr style=\"text-align: right;\">\n",
       "      <th></th>\n",
       "      <th>count</th>\n",
       "      <th>mean</th>\n",
       "      <th>std</th>\n",
       "      <th>min</th>\n",
       "      <th>25%</th>\n",
       "      <th>50%</th>\n",
       "      <th>75%</th>\n",
       "      <th>max</th>\n",
       "    </tr>\n",
       "  </thead>\n",
       "  <tbody>\n",
       "    <tr>\n",
       "      <th>age</th>\n",
       "      <td>30162.0</td>\n",
       "      <td>38.437902</td>\n",
       "      <td>13.134665</td>\n",
       "      <td>17.0</td>\n",
       "      <td>28.0</td>\n",
       "      <td>37.0</td>\n",
       "      <td>47.0</td>\n",
       "      <td>90.0</td>\n",
       "    </tr>\n",
       "    <tr>\n",
       "      <th>education.num</th>\n",
       "      <td>30162.0</td>\n",
       "      <td>10.121312</td>\n",
       "      <td>2.549995</td>\n",
       "      <td>1.0</td>\n",
       "      <td>9.0</td>\n",
       "      <td>10.0</td>\n",
       "      <td>13.0</td>\n",
       "      <td>16.0</td>\n",
       "    </tr>\n",
       "    <tr>\n",
       "      <th>race</th>\n",
       "      <td>30162.0</td>\n",
       "      <td>0.859790</td>\n",
       "      <td>0.347210</td>\n",
       "      <td>0.0</td>\n",
       "      <td>1.0</td>\n",
       "      <td>1.0</td>\n",
       "      <td>1.0</td>\n",
       "      <td>1.0</td>\n",
       "    </tr>\n",
       "    <tr>\n",
       "      <th>sex</th>\n",
       "      <td>30162.0</td>\n",
       "      <td>0.675685</td>\n",
       "      <td>0.468126</td>\n",
       "      <td>0.0</td>\n",
       "      <td>0.0</td>\n",
       "      <td>1.0</td>\n",
       "      <td>1.0</td>\n",
       "      <td>1.0</td>\n",
       "    </tr>\n",
       "    <tr>\n",
       "      <th>capital.gain</th>\n",
       "      <td>30162.0</td>\n",
       "      <td>0.010920</td>\n",
       "      <td>0.074064</td>\n",
       "      <td>0.0</td>\n",
       "      <td>0.0</td>\n",
       "      <td>0.0</td>\n",
       "      <td>0.0</td>\n",
       "      <td>1.0</td>\n",
       "    </tr>\n",
       "    <tr>\n",
       "      <th>capital.loss</th>\n",
       "      <td>30162.0</td>\n",
       "      <td>0.020288</td>\n",
       "      <td>0.092814</td>\n",
       "      <td>0.0</td>\n",
       "      <td>0.0</td>\n",
       "      <td>0.0</td>\n",
       "      <td>0.0</td>\n",
       "      <td>1.0</td>\n",
       "    </tr>\n",
       "    <tr>\n",
       "      <th>hours.per.week</th>\n",
       "      <td>30162.0</td>\n",
       "      <td>40.931238</td>\n",
       "      <td>11.979984</td>\n",
       "      <td>1.0</td>\n",
       "      <td>40.0</td>\n",
       "      <td>40.0</td>\n",
       "      <td>45.0</td>\n",
       "      <td>99.0</td>\n",
       "    </tr>\n",
       "    <tr>\n",
       "      <th>native.country</th>\n",
       "      <td>30162.0</td>\n",
       "      <td>0.911876</td>\n",
       "      <td>0.283480</td>\n",
       "      <td>0.0</td>\n",
       "      <td>1.0</td>\n",
       "      <td>1.0</td>\n",
       "      <td>1.0</td>\n",
       "      <td>1.0</td>\n",
       "    </tr>\n",
       "    <tr>\n",
       "      <th>income</th>\n",
       "      <td>30162.0</td>\n",
       "      <td>0.248922</td>\n",
       "      <td>0.432396</td>\n",
       "      <td>0.0</td>\n",
       "      <td>0.0</td>\n",
       "      <td>0.0</td>\n",
       "      <td>0.0</td>\n",
       "      <td>1.0</td>\n",
       "    </tr>\n",
       "    <tr>\n",
       "      <th>workclass_Federal-gov</th>\n",
       "      <td>30162.0</td>\n",
       "      <td>0.031265</td>\n",
       "      <td>0.174035</td>\n",
       "      <td>0.0</td>\n",
       "      <td>0.0</td>\n",
       "      <td>0.0</td>\n",
       "      <td>0.0</td>\n",
       "      <td>1.0</td>\n",
       "    </tr>\n",
       "    <tr>\n",
       "      <th>workclass_Local-gov</th>\n",
       "      <td>30162.0</td>\n",
       "      <td>0.068530</td>\n",
       "      <td>0.252657</td>\n",
       "      <td>0.0</td>\n",
       "      <td>0.0</td>\n",
       "      <td>0.0</td>\n",
       "      <td>0.0</td>\n",
       "      <td>1.0</td>\n",
       "    </tr>\n",
       "    <tr>\n",
       "      <th>workclass_Private</th>\n",
       "      <td>30162.0</td>\n",
       "      <td>0.738877</td>\n",
       "      <td>0.439254</td>\n",
       "      <td>0.0</td>\n",
       "      <td>0.0</td>\n",
       "      <td>1.0</td>\n",
       "      <td>1.0</td>\n",
       "      <td>1.0</td>\n",
       "    </tr>\n",
       "    <tr>\n",
       "      <th>workclass_Self-emp-inc</th>\n",
       "      <td>30162.0</td>\n",
       "      <td>0.035608</td>\n",
       "      <td>0.185313</td>\n",
       "      <td>0.0</td>\n",
       "      <td>0.0</td>\n",
       "      <td>0.0</td>\n",
       "      <td>0.0</td>\n",
       "      <td>1.0</td>\n",
       "    </tr>\n",
       "    <tr>\n",
       "      <th>workclass_Self-emp-not-inc</th>\n",
       "      <td>30162.0</td>\n",
       "      <td>0.082853</td>\n",
       "      <td>0.275664</td>\n",
       "      <td>0.0</td>\n",
       "      <td>0.0</td>\n",
       "      <td>0.0</td>\n",
       "      <td>0.0</td>\n",
       "      <td>1.0</td>\n",
       "    </tr>\n",
       "    <tr>\n",
       "      <th>workclass_State-gov</th>\n",
       "      <td>30162.0</td>\n",
       "      <td>0.042404</td>\n",
       "      <td>0.201513</td>\n",
       "      <td>0.0</td>\n",
       "      <td>0.0</td>\n",
       "      <td>0.0</td>\n",
       "      <td>0.0</td>\n",
       "      <td>1.0</td>\n",
       "    </tr>\n",
       "    <tr>\n",
       "      <th>workclass_Without-pay</th>\n",
       "      <td>30162.0</td>\n",
       "      <td>0.000464</td>\n",
       "      <td>0.021540</td>\n",
       "      <td>0.0</td>\n",
       "      <td>0.0</td>\n",
       "      <td>0.0</td>\n",
       "      <td>0.0</td>\n",
       "      <td>1.0</td>\n",
       "    </tr>\n",
       "    <tr>\n",
       "      <th>marital.status_Divorced</th>\n",
       "      <td>30162.0</td>\n",
       "      <td>0.139712</td>\n",
       "      <td>0.346694</td>\n",
       "      <td>0.0</td>\n",
       "      <td>0.0</td>\n",
       "      <td>0.0</td>\n",
       "      <td>0.0</td>\n",
       "      <td>1.0</td>\n",
       "    </tr>\n",
       "    <tr>\n",
       "      <th>marital.status_Married-AF-spouse</th>\n",
       "      <td>30162.0</td>\n",
       "      <td>0.000696</td>\n",
       "      <td>0.026378</td>\n",
       "      <td>0.0</td>\n",
       "      <td>0.0</td>\n",
       "      <td>0.0</td>\n",
       "      <td>0.0</td>\n",
       "      <td>1.0</td>\n",
       "    </tr>\n",
       "    <tr>\n",
       "      <th>marital.status_Married-civ-spouse</th>\n",
       "      <td>30162.0</td>\n",
       "      <td>0.466315</td>\n",
       "      <td>0.498872</td>\n",
       "      <td>0.0</td>\n",
       "      <td>0.0</td>\n",
       "      <td>0.0</td>\n",
       "      <td>1.0</td>\n",
       "      <td>1.0</td>\n",
       "    </tr>\n",
       "    <tr>\n",
       "      <th>marital.status_Married-spouse-absent</th>\n",
       "      <td>30162.0</td>\n",
       "      <td>0.012267</td>\n",
       "      <td>0.110077</td>\n",
       "      <td>0.0</td>\n",
       "      <td>0.0</td>\n",
       "      <td>0.0</td>\n",
       "      <td>0.0</td>\n",
       "      <td>1.0</td>\n",
       "    </tr>\n",
       "    <tr>\n",
       "      <th>marital.status_Never-married</th>\n",
       "      <td>30162.0</td>\n",
       "      <td>0.322459</td>\n",
       "      <td>0.467425</td>\n",
       "      <td>0.0</td>\n",
       "      <td>0.0</td>\n",
       "      <td>0.0</td>\n",
       "      <td>1.0</td>\n",
       "      <td>1.0</td>\n",
       "    </tr>\n",
       "    <tr>\n",
       "      <th>marital.status_Separated</th>\n",
       "      <td>30162.0</td>\n",
       "      <td>0.031132</td>\n",
       "      <td>0.173677</td>\n",
       "      <td>0.0</td>\n",
       "      <td>0.0</td>\n",
       "      <td>0.0</td>\n",
       "      <td>0.0</td>\n",
       "      <td>1.0</td>\n",
       "    </tr>\n",
       "    <tr>\n",
       "      <th>marital.status_Widowed</th>\n",
       "      <td>30162.0</td>\n",
       "      <td>0.027419</td>\n",
       "      <td>0.163303</td>\n",
       "      <td>0.0</td>\n",
       "      <td>0.0</td>\n",
       "      <td>0.0</td>\n",
       "      <td>0.0</td>\n",
       "      <td>1.0</td>\n",
       "    </tr>\n",
       "    <tr>\n",
       "      <th>occupation_Adm-clerical</th>\n",
       "      <td>30162.0</td>\n",
       "      <td>0.123367</td>\n",
       "      <td>0.328864</td>\n",
       "      <td>0.0</td>\n",
       "      <td>0.0</td>\n",
       "      <td>0.0</td>\n",
       "      <td>0.0</td>\n",
       "      <td>1.0</td>\n",
       "    </tr>\n",
       "    <tr>\n",
       "      <th>occupation_Armed-Forces</th>\n",
       "      <td>30162.0</td>\n",
       "      <td>0.000298</td>\n",
       "      <td>0.017272</td>\n",
       "      <td>0.0</td>\n",
       "      <td>0.0</td>\n",
       "      <td>0.0</td>\n",
       "      <td>0.0</td>\n",
       "      <td>1.0</td>\n",
       "    </tr>\n",
       "    <tr>\n",
       "      <th>occupation_Craft-repair</th>\n",
       "      <td>30162.0</td>\n",
       "      <td>0.133612</td>\n",
       "      <td>0.340240</td>\n",
       "      <td>0.0</td>\n",
       "      <td>0.0</td>\n",
       "      <td>0.0</td>\n",
       "      <td>0.0</td>\n",
       "      <td>1.0</td>\n",
       "    </tr>\n",
       "    <tr>\n",
       "      <th>occupation_Exec-managerial</th>\n",
       "      <td>30162.0</td>\n",
       "      <td>0.132352</td>\n",
       "      <td>0.338879</td>\n",
       "      <td>0.0</td>\n",
       "      <td>0.0</td>\n",
       "      <td>0.0</td>\n",
       "      <td>0.0</td>\n",
       "      <td>1.0</td>\n",
       "    </tr>\n",
       "    <tr>\n",
       "      <th>occupation_Farming-fishing</th>\n",
       "      <td>30162.0</td>\n",
       "      <td>0.032790</td>\n",
       "      <td>0.178088</td>\n",
       "      <td>0.0</td>\n",
       "      <td>0.0</td>\n",
       "      <td>0.0</td>\n",
       "      <td>0.0</td>\n",
       "      <td>1.0</td>\n",
       "    </tr>\n",
       "    <tr>\n",
       "      <th>occupation_Handlers-cleaners</th>\n",
       "      <td>30162.0</td>\n",
       "      <td>0.044758</td>\n",
       "      <td>0.206776</td>\n",
       "      <td>0.0</td>\n",
       "      <td>0.0</td>\n",
       "      <td>0.0</td>\n",
       "      <td>0.0</td>\n",
       "      <td>1.0</td>\n",
       "    </tr>\n",
       "    <tr>\n",
       "      <th>occupation_Machine-op-inspct</th>\n",
       "      <td>30162.0</td>\n",
       "      <td>0.065181</td>\n",
       "      <td>0.246850</td>\n",
       "      <td>0.0</td>\n",
       "      <td>0.0</td>\n",
       "      <td>0.0</td>\n",
       "      <td>0.0</td>\n",
       "      <td>1.0</td>\n",
       "    </tr>\n",
       "    <tr>\n",
       "      <th>occupation_Other-service</th>\n",
       "      <td>30162.0</td>\n",
       "      <td>0.106492</td>\n",
       "      <td>0.308471</td>\n",
       "      <td>0.0</td>\n",
       "      <td>0.0</td>\n",
       "      <td>0.0</td>\n",
       "      <td>0.0</td>\n",
       "      <td>1.0</td>\n",
       "    </tr>\n",
       "    <tr>\n",
       "      <th>occupation_Priv-house-serv</th>\n",
       "      <td>30162.0</td>\n",
       "      <td>0.004741</td>\n",
       "      <td>0.068693</td>\n",
       "      <td>0.0</td>\n",
       "      <td>0.0</td>\n",
       "      <td>0.0</td>\n",
       "      <td>0.0</td>\n",
       "      <td>1.0</td>\n",
       "    </tr>\n",
       "    <tr>\n",
       "      <th>occupation_Prof-specialty</th>\n",
       "      <td>30162.0</td>\n",
       "      <td>0.133877</td>\n",
       "      <td>0.340526</td>\n",
       "      <td>0.0</td>\n",
       "      <td>0.0</td>\n",
       "      <td>0.0</td>\n",
       "      <td>0.0</td>\n",
       "      <td>1.0</td>\n",
       "    </tr>\n",
       "    <tr>\n",
       "      <th>occupation_Protective-serv</th>\n",
       "      <td>30162.0</td>\n",
       "      <td>0.021351</td>\n",
       "      <td>0.144555</td>\n",
       "      <td>0.0</td>\n",
       "      <td>0.0</td>\n",
       "      <td>0.0</td>\n",
       "      <td>0.0</td>\n",
       "      <td>1.0</td>\n",
       "    </tr>\n",
       "    <tr>\n",
       "      <th>occupation_Sales</th>\n",
       "      <td>30162.0</td>\n",
       "      <td>0.118825</td>\n",
       "      <td>0.323588</td>\n",
       "      <td>0.0</td>\n",
       "      <td>0.0</td>\n",
       "      <td>0.0</td>\n",
       "      <td>0.0</td>\n",
       "      <td>1.0</td>\n",
       "    </tr>\n",
       "    <tr>\n",
       "      <th>occupation_Tech-support</th>\n",
       "      <td>30162.0</td>\n",
       "      <td>0.030237</td>\n",
       "      <td>0.171241</td>\n",
       "      <td>0.0</td>\n",
       "      <td>0.0</td>\n",
       "      <td>0.0</td>\n",
       "      <td>0.0</td>\n",
       "      <td>1.0</td>\n",
       "    </tr>\n",
       "    <tr>\n",
       "      <th>occupation_Transport-moving</th>\n",
       "      <td>30162.0</td>\n",
       "      <td>0.052119</td>\n",
       "      <td>0.222270</td>\n",
       "      <td>0.0</td>\n",
       "      <td>0.0</td>\n",
       "      <td>0.0</td>\n",
       "      <td>0.0</td>\n",
       "      <td>1.0</td>\n",
       "    </tr>\n",
       "    <tr>\n",
       "      <th>relationship_Husband</th>\n",
       "      <td>30162.0</td>\n",
       "      <td>0.413202</td>\n",
       "      <td>0.492417</td>\n",
       "      <td>0.0</td>\n",
       "      <td>0.0</td>\n",
       "      <td>0.0</td>\n",
       "      <td>1.0</td>\n",
       "      <td>1.0</td>\n",
       "    </tr>\n",
       "    <tr>\n",
       "      <th>relationship_Not-in-family</th>\n",
       "      <td>30162.0</td>\n",
       "      <td>0.256150</td>\n",
       "      <td>0.436513</td>\n",
       "      <td>0.0</td>\n",
       "      <td>0.0</td>\n",
       "      <td>0.0</td>\n",
       "      <td>1.0</td>\n",
       "      <td>1.0</td>\n",
       "    </tr>\n",
       "    <tr>\n",
       "      <th>relationship_Other-relative</th>\n",
       "      <td>30162.0</td>\n",
       "      <td>0.029474</td>\n",
       "      <td>0.169134</td>\n",
       "      <td>0.0</td>\n",
       "      <td>0.0</td>\n",
       "      <td>0.0</td>\n",
       "      <td>0.0</td>\n",
       "      <td>1.0</td>\n",
       "    </tr>\n",
       "    <tr>\n",
       "      <th>relationship_Own-child</th>\n",
       "      <td>30162.0</td>\n",
       "      <td>0.148067</td>\n",
       "      <td>0.355172</td>\n",
       "      <td>0.0</td>\n",
       "      <td>0.0</td>\n",
       "      <td>0.0</td>\n",
       "      <td>0.0</td>\n",
       "      <td>1.0</td>\n",
       "    </tr>\n",
       "    <tr>\n",
       "      <th>relationship_Unmarried</th>\n",
       "      <td>30162.0</td>\n",
       "      <td>0.106492</td>\n",
       "      <td>0.308471</td>\n",
       "      <td>0.0</td>\n",
       "      <td>0.0</td>\n",
       "      <td>0.0</td>\n",
       "      <td>0.0</td>\n",
       "      <td>1.0</td>\n",
       "    </tr>\n",
       "    <tr>\n",
       "      <th>relationship_Wife</th>\n",
       "      <td>30162.0</td>\n",
       "      <td>0.046615</td>\n",
       "      <td>0.210816</td>\n",
       "      <td>0.0</td>\n",
       "      <td>0.0</td>\n",
       "      <td>0.0</td>\n",
       "      <td>0.0</td>\n",
       "      <td>1.0</td>\n",
       "    </tr>\n",
       "  </tbody>\n",
       "</table>\n",
       "</div>"
      ],
      "text/plain": [
       "                                        count       mean        std   min  \\\n",
       "age                                   30162.0  38.437902  13.134665  17.0   \n",
       "education.num                         30162.0  10.121312   2.549995   1.0   \n",
       "race                                  30162.0   0.859790   0.347210   0.0   \n",
       "sex                                   30162.0   0.675685   0.468126   0.0   \n",
       "capital.gain                          30162.0   0.010920   0.074064   0.0   \n",
       "capital.loss                          30162.0   0.020288   0.092814   0.0   \n",
       "hours.per.week                        30162.0  40.931238  11.979984   1.0   \n",
       "native.country                        30162.0   0.911876   0.283480   0.0   \n",
       "income                                30162.0   0.248922   0.432396   0.0   \n",
       "workclass_Federal-gov                 30162.0   0.031265   0.174035   0.0   \n",
       "workclass_Local-gov                   30162.0   0.068530   0.252657   0.0   \n",
       "workclass_Private                     30162.0   0.738877   0.439254   0.0   \n",
       "workclass_Self-emp-inc                30162.0   0.035608   0.185313   0.0   \n",
       "workclass_Self-emp-not-inc            30162.0   0.082853   0.275664   0.0   \n",
       "workclass_State-gov                   30162.0   0.042404   0.201513   0.0   \n",
       "workclass_Without-pay                 30162.0   0.000464   0.021540   0.0   \n",
       "marital.status_Divorced               30162.0   0.139712   0.346694   0.0   \n",
       "marital.status_Married-AF-spouse      30162.0   0.000696   0.026378   0.0   \n",
       "marital.status_Married-civ-spouse     30162.0   0.466315   0.498872   0.0   \n",
       "marital.status_Married-spouse-absent  30162.0   0.012267   0.110077   0.0   \n",
       "marital.status_Never-married          30162.0   0.322459   0.467425   0.0   \n",
       "marital.status_Separated              30162.0   0.031132   0.173677   0.0   \n",
       "marital.status_Widowed                30162.0   0.027419   0.163303   0.0   \n",
       "occupation_Adm-clerical               30162.0   0.123367   0.328864   0.0   \n",
       "occupation_Armed-Forces               30162.0   0.000298   0.017272   0.0   \n",
       "occupation_Craft-repair               30162.0   0.133612   0.340240   0.0   \n",
       "occupation_Exec-managerial            30162.0   0.132352   0.338879   0.0   \n",
       "occupation_Farming-fishing            30162.0   0.032790   0.178088   0.0   \n",
       "occupation_Handlers-cleaners          30162.0   0.044758   0.206776   0.0   \n",
       "occupation_Machine-op-inspct          30162.0   0.065181   0.246850   0.0   \n",
       "occupation_Other-service              30162.0   0.106492   0.308471   0.0   \n",
       "occupation_Priv-house-serv            30162.0   0.004741   0.068693   0.0   \n",
       "occupation_Prof-specialty             30162.0   0.133877   0.340526   0.0   \n",
       "occupation_Protective-serv            30162.0   0.021351   0.144555   0.0   \n",
       "occupation_Sales                      30162.0   0.118825   0.323588   0.0   \n",
       "occupation_Tech-support               30162.0   0.030237   0.171241   0.0   \n",
       "occupation_Transport-moving           30162.0   0.052119   0.222270   0.0   \n",
       "relationship_Husband                  30162.0   0.413202   0.492417   0.0   \n",
       "relationship_Not-in-family            30162.0   0.256150   0.436513   0.0   \n",
       "relationship_Other-relative           30162.0   0.029474   0.169134   0.0   \n",
       "relationship_Own-child                30162.0   0.148067   0.355172   0.0   \n",
       "relationship_Unmarried                30162.0   0.106492   0.308471   0.0   \n",
       "relationship_Wife                     30162.0   0.046615   0.210816   0.0   \n",
       "\n",
       "                                       25%   50%   75%   max  \n",
       "age                                   28.0  37.0  47.0  90.0  \n",
       "education.num                          9.0  10.0  13.0  16.0  \n",
       "race                                   1.0   1.0   1.0   1.0  \n",
       "sex                                    0.0   1.0   1.0   1.0  \n",
       "capital.gain                           0.0   0.0   0.0   1.0  \n",
       "capital.loss                           0.0   0.0   0.0   1.0  \n",
       "hours.per.week                        40.0  40.0  45.0  99.0  \n",
       "native.country                         1.0   1.0   1.0   1.0  \n",
       "income                                 0.0   0.0   0.0   1.0  \n",
       "workclass_Federal-gov                  0.0   0.0   0.0   1.0  \n",
       "workclass_Local-gov                    0.0   0.0   0.0   1.0  \n",
       "workclass_Private                      0.0   1.0   1.0   1.0  \n",
       "workclass_Self-emp-inc                 0.0   0.0   0.0   1.0  \n",
       "workclass_Self-emp-not-inc             0.0   0.0   0.0   1.0  \n",
       "workclass_State-gov                    0.0   0.0   0.0   1.0  \n",
       "workclass_Without-pay                  0.0   0.0   0.0   1.0  \n",
       "marital.status_Divorced                0.0   0.0   0.0   1.0  \n",
       "marital.status_Married-AF-spouse       0.0   0.0   0.0   1.0  \n",
       "marital.status_Married-civ-spouse      0.0   0.0   1.0   1.0  \n",
       "marital.status_Married-spouse-absent   0.0   0.0   0.0   1.0  \n",
       "marital.status_Never-married           0.0   0.0   1.0   1.0  \n",
       "marital.status_Separated               0.0   0.0   0.0   1.0  \n",
       "marital.status_Widowed                 0.0   0.0   0.0   1.0  \n",
       "occupation_Adm-clerical                0.0   0.0   0.0   1.0  \n",
       "occupation_Armed-Forces                0.0   0.0   0.0   1.0  \n",
       "occupation_Craft-repair                0.0   0.0   0.0   1.0  \n",
       "occupation_Exec-managerial             0.0   0.0   0.0   1.0  \n",
       "occupation_Farming-fishing             0.0   0.0   0.0   1.0  \n",
       "occupation_Handlers-cleaners           0.0   0.0   0.0   1.0  \n",
       "occupation_Machine-op-inspct           0.0   0.0   0.0   1.0  \n",
       "occupation_Other-service               0.0   0.0   0.0   1.0  \n",
       "occupation_Priv-house-serv             0.0   0.0   0.0   1.0  \n",
       "occupation_Prof-specialty              0.0   0.0   0.0   1.0  \n",
       "occupation_Protective-serv             0.0   0.0   0.0   1.0  \n",
       "occupation_Sales                       0.0   0.0   0.0   1.0  \n",
       "occupation_Tech-support                0.0   0.0   0.0   1.0  \n",
       "occupation_Transport-moving            0.0   0.0   0.0   1.0  \n",
       "relationship_Husband                   0.0   0.0   1.0   1.0  \n",
       "relationship_Not-in-family             0.0   0.0   1.0   1.0  \n",
       "relationship_Other-relative            0.0   0.0   0.0   1.0  \n",
       "relationship_Own-child                 0.0   0.0   0.0   1.0  \n",
       "relationship_Unmarried                 0.0   0.0   0.0   1.0  \n",
       "relationship_Wife                      0.0   0.0   0.0   1.0  "
      ]
     },
     "execution_count": 54,
     "metadata": {},
     "output_type": "execute_result"
    }
   ],
   "source": [
    "transformed.describe(include='all').T"
   ]
  },
  {
   "cell_type": "code",
   "execution_count": 62,
   "id": "29e70b40",
   "metadata": {},
   "outputs": [
    {
     "data": {
      "text/plain": [
       "<AxesSubplot:>"
      ]
     },
     "execution_count": 62,
     "metadata": {},
     "output_type": "execute_result"
    },
    {
     "data": {
      "image/png": "[encoded data removed]",
      "text/plain": [
       "<Figure size 864x720 with 2 Axes>"
      ]
     },
     "metadata": {
      "needs_background": "light"
     },
     "output_type": "display_data"
    }
   ],
   "source": [
    "plt.figure(figsize=(12,10))\n",
    "sns.heatmap(transformed.corr(), cmap='YlOrBr')"
   ]
  },
  {
   "cell_type": "code",
   "execution_count": 76,
   "id": "dd23ebfa",
   "metadata": {},
   "outputs": [
    {
     "data": {
      "text/plain": [
       "<AxesSubplot:>"
      ]
     },
     "execution_count": 76,
     "metadata": {},
     "output_type": "execute_result"
    },
    {
     "data": {
      "image/png": "[encoded data removed]",
      "text/plain": [
       "<Figure size 432x288 with 2 Axes>"
      ]
     },
     "metadata": {
      "needs_background": "light"
     },
     "output_type": "display_data"
    }
   ],
   "source": [
    "sns.heatmap(df.isna())"
   ]
  },
  {
   "cell_type": "markdown",
   "id": "fa5cc29d",
   "metadata": {},
   "source": [
    "All good."
   ]
  },
  {
   "cell_type": "markdown",
   "id": "e8a74205",
   "metadata": {},
   "source": [
    "# Separate data (train/test, X/y)"
   ]
  },
  {
   "cell_type": "markdown",
   "id": "2011774e",
   "metadata": {},
   "source": [
    "Set index."
   ]
  },
  {
   "cell_type": "code",
   "execution_count": 271,
   "id": "63324c1b",
   "metadata": {},
   "outputs": [],
   "source": [
    "transformed = transformed.set_index('sex')"
   ]
  },
  {
   "cell_type": "markdown",
   "id": "67cdf065",
   "metadata": {},
   "source": [
    "Separate X and y (train and test)."
   ]
  },
  {
   "cell_type": "code",
   "execution_count": 272,
   "id": "abd5ad79",
   "metadata": {},
   "outputs": [],
   "source": [
    "y = transformed['income']\n",
    "X = transformed.drop('income', axis=1)"
   ]
  },
  {
   "cell_type": "code",
   "execution_count": 273,
   "id": "db2b6fb9",
   "metadata": {},
   "outputs": [],
   "source": [
    "from sklearn.model_selection import train_test_split"
   ]
  },
  {
   "cell_type": "code",
   "execution_count": 274,
   "id": "9ddaf7f1",
   "metadata": {},
   "outputs": [],
   "source": [
    "(X_train, X_test,\n",
    " y_train, y_test) = train_test_split(X, y, train_size=0.7, random_state=1234567)"
   ]
  },
  {
   "cell_type": "markdown",
   "id": "c596a5d6",
   "metadata": {},
   "source": [
    "# Train a model"
   ]
  },
  {
   "cell_type": "code",
   "execution_count": 275,
   "id": "49f0de87",
   "metadata": {},
   "outputs": [],
   "source": [
    "from sklearn.linear_model import LogisticRegression\n",
    "from sklearn.metrics import classification_report\n",
    "from sklearn.model_selection import GridSearchCV"
   ]
  },
  {
   "cell_type": "code",
   "execution_count": 276,
   "id": "3dc8c076",
   "metadata": {},
   "outputs": [
    {
     "name": "stderr",
     "output_type": "stream",
     "text": [
      "/home/paollamagalhaes/miniconda3/envs/aif360/lib/python3.6/site-packages/sklearn/linear_model/_logistic.py:765: ConvergenceWarning: lbfgs failed to converge (status=1):\n",
      "STOP: TOTAL NO. of ITERATIONS REACHED LIMIT.\n",
      "\n",
      "Increase the number of iterations (max_iter) or scale the data as shown in:\n",
      "    https://scikit-learn.org/stable/modules/preprocessing.html\n",
      "Please also refer to the documentation for alternative solver options:\n",
      "    https://scikit-learn.org/stable/modules/linear_model.html#logistic-regression\n",
      "  extra_warning_msg=_LOGISTIC_SOLVER_CONVERGENCE_MSG)\n"
     ]
    }
   ],
   "source": [
    "estimator = LogisticRegression(solver='lbfgs')\n",
    "y_pred = estimator.fit(X_train, y_train).predict(X_test)"
   ]
  },
  {
   "cell_type": "markdown",
   "id": "76dba3b7",
   "metadata": {},
   "source": [
    "# Evaluate performance"
   ]
  },
  {
   "cell_type": "code",
   "execution_count": 277,
   "id": "d6cc16a1",
   "metadata": {},
   "outputs": [
    {
     "data": {
      "text/html": [
       "<div>\n",
       "<style scoped>\n",
       "    .dataframe tbody tr th:only-of-type {\n",
       "        vertical-align: middle;\n",
       "    }\n",
       "\n",
       "    .dataframe tbody tr th {\n",
       "        vertical-align: top;\n",
       "    }\n",
       "\n",
       "    .dataframe thead th {\n",
       "        text-align: right;\n",
       "    }\n",
       "</style>\n",
       "<table border=\"1\" class=\"dataframe\">\n",
       "  <thead>\n",
       "    <tr style=\"text-align: right;\">\n",
       "      <th></th>\n",
       "      <th>precision</th>\n",
       "      <th>recall</th>\n",
       "      <th>f1-score</th>\n",
       "      <th>support</th>\n",
       "    </tr>\n",
       "  </thead>\n",
       "  <tbody>\n",
       "    <tr>\n",
       "      <th>0</th>\n",
       "      <td>0.869614</td>\n",
       "      <td>0.916093</td>\n",
       "      <td>0.892248</td>\n",
       "      <td>6829.00000</td>\n",
       "    </tr>\n",
       "    <tr>\n",
       "      <th>1</th>\n",
       "      <td>0.691105</td>\n",
       "      <td>0.577477</td>\n",
       "      <td>0.629202</td>\n",
       "      <td>2220.00000</td>\n",
       "    </tr>\n",
       "    <tr>\n",
       "      <th>accuracy</th>\n",
       "      <td>0.833020</td>\n",
       "      <td>0.833020</td>\n",
       "      <td>0.833020</td>\n",
       "      <td>0.83302</td>\n",
       "    </tr>\n",
       "    <tr>\n",
       "      <th>macro avg</th>\n",
       "      <td>0.780359</td>\n",
       "      <td>0.746785</td>\n",
       "      <td>0.760725</td>\n",
       "      <td>9049.00000</td>\n",
       "    </tr>\n",
       "    <tr>\n",
       "      <th>weighted avg</th>\n",
       "      <td>0.825820</td>\n",
       "      <td>0.833020</td>\n",
       "      <td>0.827715</td>\n",
       "      <td>9049.00000</td>\n",
       "    </tr>\n",
       "  </tbody>\n",
       "</table>\n",
       "</div>"
      ],
      "text/plain": [
       "              precision    recall  f1-score     support\n",
       "0              0.869614  0.916093  0.892248  6829.00000\n",
       "1              0.691105  0.577477  0.629202  2220.00000\n",
       "accuracy       0.833020  0.833020  0.833020     0.83302\n",
       "macro avg      0.780359  0.746785  0.760725  9049.00000\n",
       "weighted avg   0.825820  0.833020  0.827715  9049.00000"
      ]
     },
     "execution_count": 277,
     "metadata": {},
     "output_type": "execute_result"
    }
   ],
   "source": [
    "pd.DataFrame(classification_report(y_test, y_pred, output_dict=True)).T"
   ]
  },
  {
   "cell_type": "markdown",
   "id": "b14a328c",
   "metadata": {},
   "source": [
    "# Evaluate fairness"
   ]
  },
  {
   "cell_type": "code",
   "execution_count": 278,
   "id": "6a6c1abf",
   "metadata": {},
   "outputs": [],
   "source": [
    "import pandas as pd\n",
    "\n",
    "def fairness_report(y_test, y_pred, prot_attr, return_df=True):\n",
    "    fairness_report_dict = {\n",
    "        prot_attr: {\"disparate_impact_ratio\": \n",
    "                        mt.disparate_impact_ratio(y_test, y_pred, prot_attr=prot_attr),\n",
    "                    \"statistical_parity_difference\": \n",
    "                        mt.statistical_parity_difference(y_test, y_pred, prot_attr=prot_attr),\n",
    "                    \"equal_opportunity_difference\": \n",
    "                        mt.equal_opportunity_difference(y_test, y_pred, prot_attr=prot_attr),\n",
    "                    \"average_odds_difference\": \n",
    "                        mt.average_odds_difference(y_test, y_pred, prot_attr=prot_attr)}}\n",
    "    if return_df:\n",
    "        return pd.DataFrame(fairness_report_dict)\n",
    "    else:\n",
    "        return fairness_report_dict"
   ]
  },
  {
   "cell_type": "code",
   "execution_count": 279,
   "id": "0ecc76e6",
   "metadata": {
    "scrolled": true
   },
   "outputs": [
    {
     "data": {
      "text/html": [
       "<div>\n",
       "<style scoped>\n",
       "    .dataframe tbody tr th:only-of-type {\n",
       "        vertical-align: middle;\n",
       "    }\n",
       "\n",
       "    .dataframe tbody tr th {\n",
       "        vertical-align: top;\n",
       "    }\n",
       "\n",
       "    .dataframe thead th {\n",
       "        text-align: right;\n",
       "    }\n",
       "</style>\n",
       "<table border=\"1\" class=\"dataframe\">\n",
       "  <thead>\n",
       "    <tr style=\"text-align: right;\">\n",
       "      <th></th>\n",
       "      <th>sex</th>\n",
       "    </tr>\n",
       "  </thead>\n",
       "  <tbody>\n",
       "    <tr>\n",
       "      <th>average_odds_difference</th>\n",
       "      <td>-0.093343</td>\n",
       "    </tr>\n",
       "    <tr>\n",
       "      <th>disparate_impact_ratio</th>\n",
       "      <td>0.338628</td>\n",
       "    </tr>\n",
       "    <tr>\n",
       "      <th>equal_opportunity_difference</th>\n",
       "      <td>-0.105511</td>\n",
       "    </tr>\n",
       "    <tr>\n",
       "      <th>statistical_parity_difference</th>\n",
       "      <td>-0.171693</td>\n",
       "    </tr>\n",
       "  </tbody>\n",
       "</table>\n",
       "</div>"
      ],
      "text/plain": [
       "                                    sex\n",
       "average_odds_difference       -0.093343\n",
       "disparate_impact_ratio         0.338628\n",
       "equal_opportunity_difference  -0.105511\n",
       "statistical_parity_difference -0.171693"
      ]
     },
     "execution_count": 279,
     "metadata": {},
     "output_type": "execute_result"
    }
   ],
   "source": [
    "fairness_report(y_test, y_pred, prot_attr='sex')"
   ]
  },
  {
   "cell_type": "markdown",
   "id": "1af21138",
   "metadata": {},
   "source": [
    "Seems like it is failing on 2 fairness metrics."
   ]
  },
  {
   "cell_type": "markdown",
   "id": "e6de061a",
   "metadata": {},
   "source": [
    "# Mitigate bias"
   ]
  },
  {
   "cell_type": "markdown",
   "id": "f877cd88",
   "metadata": {},
   "source": [
    "## Using Preprocessing"
   ]
  },
  {
   "cell_type": "code",
   "execution_count": 280,
   "id": "1fb01de2",
   "metadata": {},
   "outputs": [],
   "source": [
    "from aif360.sklearn.preprocessing import ReweighingMeta"
   ]
  },
  {
   "cell_type": "code",
   "execution_count": 281,
   "id": "4be8a449",
   "metadata": {
    "collapsed": true
   },
   "outputs": [
    {
     "name": "stderr",
     "output_type": "stream",
     "text": [
      "/home/paollamagalhaes/miniconda3/envs/aif360/lib/python3.6/site-packages/sklearn/linear_model/_logistic.py:765: ConvergenceWarning: lbfgs failed to converge (status=1):\n",
      "STOP: TOTAL NO. of ITERATIONS REACHED LIMIT.\n",
      "\n",
      "Increase the number of iterations (max_iter) or scale the data as shown in:\n",
      "    https://scikit-learn.org/stable/modules/preprocessing.html\n",
      "Please also refer to the documentation for alternative solver options:\n",
      "    https://scikit-learn.org/stable/modules/linear_model.html#logistic-regression\n",
      "  extra_warning_msg=_LOGISTIC_SOLVER_CONVERGENCE_MSG)\n",
      "/home/paollamagalhaes/miniconda3/envs/aif360/lib/python3.6/site-packages/sklearn/linear_model/_logistic.py:765: ConvergenceWarning: lbfgs failed to converge (status=1):\n",
      "STOP: TOTAL NO. of ITERATIONS REACHED LIMIT.\n",
      "\n",
      "Increase the number of iterations (max_iter) or scale the data as shown in:\n",
      "    https://scikit-learn.org/stable/modules/preprocessing.html\n",
      "Please also refer to the documentation for alternative solver options:\n",
      "    https://scikit-learn.org/stable/modules/linear_model.html#logistic-regression\n",
      "  extra_warning_msg=_LOGISTIC_SOLVER_CONVERGENCE_MSG)\n",
      "/home/paollamagalhaes/miniconda3/envs/aif360/lib/python3.6/site-packages/sklearn/linear_model/_logistic.py:765: ConvergenceWarning: lbfgs failed to converge (status=1):\n",
      "STOP: TOTAL NO. of ITERATIONS REACHED LIMIT.\n",
      "\n",
      "Increase the number of iterations (max_iter) or scale the data as shown in:\n",
      "    https://scikit-learn.org/stable/modules/preprocessing.html\n",
      "Please also refer to the documentation for alternative solver options:\n",
      "    https://scikit-learn.org/stable/modules/linear_model.html#logistic-regression\n",
      "  extra_warning_msg=_LOGISTIC_SOLVER_CONVERGENCE_MSG)\n",
      "/home/paollamagalhaes/miniconda3/envs/aif360/lib/python3.6/site-packages/sklearn/linear_model/_logistic.py:765: ConvergenceWarning: lbfgs failed to converge (status=1):\n",
      "STOP: TOTAL NO. of ITERATIONS REACHED LIMIT.\n",
      "\n",
      "Increase the number of iterations (max_iter) or scale the data as shown in:\n",
      "    https://scikit-learn.org/stable/modules/preprocessing.html\n",
      "Please also refer to the documentation for alternative solver options:\n",
      "    https://scikit-learn.org/stable/modules/linear_model.html#logistic-regression\n",
      "  extra_warning_msg=_LOGISTIC_SOLVER_CONVERGENCE_MSG)\n",
      "/home/paollamagalhaes/miniconda3/envs/aif360/lib/python3.6/site-packages/sklearn/linear_model/_logistic.py:765: ConvergenceWarning: lbfgs failed to converge (status=1):\n",
      "STOP: TOTAL NO. of ITERATIONS REACHED LIMIT.\n",
      "\n",
      "Increase the number of iterations (max_iter) or scale the data as shown in:\n",
      "    https://scikit-learn.org/stable/modules/preprocessing.html\n",
      "Please also refer to the documentation for alternative solver options:\n",
      "    https://scikit-learn.org/stable/modules/linear_model.html#logistic-regression\n",
      "  extra_warning_msg=_LOGISTIC_SOLVER_CONVERGENCE_MSG)\n",
      "/home/paollamagalhaes/miniconda3/envs/aif360/lib/python3.6/site-packages/sklearn/linear_model/_logistic.py:765: ConvergenceWarning: lbfgs failed to converge (status=1):\n",
      "STOP: TOTAL NO. of ITERATIONS REACHED LIMIT.\n",
      "\n",
      "Increase the number of iterations (max_iter) or scale the data as shown in:\n",
      "    https://scikit-learn.org/stable/modules/preprocessing.html\n",
      "Please also refer to the documentation for alternative solver options:\n",
      "    https://scikit-learn.org/stable/modules/linear_model.html#logistic-regression\n",
      "  extra_warning_msg=_LOGISTIC_SOLVER_CONVERGENCE_MSG)\n",
      "/home/paollamagalhaes/miniconda3/envs/aif360/lib/python3.6/site-packages/sklearn/linear_model/_logistic.py:765: ConvergenceWarning: lbfgs failed to converge (status=1):\n",
      "STOP: TOTAL NO. of ITERATIONS REACHED LIMIT.\n",
      "\n",
      "Increase the number of iterations (max_iter) or scale the data as shown in:\n",
      "    https://scikit-learn.org/stable/modules/preprocessing.html\n",
      "Please also refer to the documentation for alternative solver options:\n",
      "    https://scikit-learn.org/stable/modules/linear_model.html#logistic-regression\n",
      "  extra_warning_msg=_LOGISTIC_SOLVER_CONVERGENCE_MSG)\n",
      "/home/paollamagalhaes/miniconda3/envs/aif360/lib/python3.6/site-packages/sklearn/linear_model/_logistic.py:765: ConvergenceWarning: lbfgs failed to converge (status=1):\n",
      "STOP: TOTAL NO. of ITERATIONS REACHED LIMIT.\n",
      "\n",
      "Increase the number of iterations (max_iter) or scale the data as shown in:\n",
      "    https://scikit-learn.org/stable/modules/preprocessing.html\n",
      "Please also refer to the documentation for alternative solver options:\n",
      "    https://scikit-learn.org/stable/modules/linear_model.html#logistic-regression\n",
      "  extra_warning_msg=_LOGISTIC_SOLVER_CONVERGENCE_MSG)\n",
      "/home/paollamagalhaes/miniconda3/envs/aif360/lib/python3.6/site-packages/sklearn/linear_model/_logistic.py:765: ConvergenceWarning: lbfgs failed to converge (status=1):\n",
      "STOP: TOTAL NO. of ITERATIONS REACHED LIMIT.\n",
      "\n",
      "Increase the number of iterations (max_iter) or scale the data as shown in:\n",
      "    https://scikit-learn.org/stable/modules/preprocessing.html\n",
      "Please also refer to the documentation for alternative solver options:\n",
      "    https://scikit-learn.org/stable/modules/linear_model.html#logistic-regression\n",
      "  extra_warning_msg=_LOGISTIC_SOLVER_CONVERGENCE_MSG)\n",
      "/home/paollamagalhaes/miniconda3/envs/aif360/lib/python3.6/site-packages/sklearn/linear_model/_logistic.py:765: ConvergenceWarning: lbfgs failed to converge (status=1):\n",
      "STOP: TOTAL NO. of ITERATIONS REACHED LIMIT.\n",
      "\n",
      "Increase the number of iterations (max_iter) or scale the data as shown in:\n",
      "    https://scikit-learn.org/stable/modules/preprocessing.html\n",
      "Please also refer to the documentation for alternative solver options:\n",
      "    https://scikit-learn.org/stable/modules/linear_model.html#logistic-regression\n",
      "  extra_warning_msg=_LOGISTIC_SOLVER_CONVERGENCE_MSG)\n",
      "/home/paollamagalhaes/miniconda3/envs/aif360/lib/python3.6/site-packages/sklearn/linear_model/_logistic.py:765: ConvergenceWarning: lbfgs failed to converge (status=1):\n",
      "STOP: TOTAL NO. of ITERATIONS REACHED LIMIT.\n",
      "\n",
      "Increase the number of iterations (max_iter) or scale the data as shown in:\n",
      "    https://scikit-learn.org/stable/modules/preprocessing.html\n",
      "Please also refer to the documentation for alternative solver options:\n",
      "    https://scikit-learn.org/stable/modules/linear_model.html#logistic-regression\n",
      "  extra_warning_msg=_LOGISTIC_SOLVER_CONVERGENCE_MSG)\n"
     ]
    },
    {
     "data": {
      "text/plain": [
       "GridSearchCV(cv=5, estimator=ReweighingMeta(estimator=LogisticRegression()),\n",
       "             param_grid={'estimator__C': [1, 10],\n",
       "                         'reweigher__prot_attr': ['sex']},\n",
       "             scoring='accuracy')"
      ]
     },
     "execution_count": 281,
     "metadata": {},
     "output_type": "execute_result"
    }
   ],
   "source": [
    "rew = ReweighingMeta(estimator=estimator)\n",
    "\n",
    "params = {'estimator__C': [1, 10], 'reweigher__prot_attr': ['sex']}\n",
    "\n",
    "clf = GridSearchCV(rew, params, scoring='accuracy', cv=5)\n",
    "clf.fit(X_train, y_train)"
   ]
  },
  {
   "cell_type": "code",
   "execution_count": 282,
   "id": "0228d978",
   "metadata": {},
   "outputs": [],
   "source": [
    "y_pred = clf.predict(X_test)"
   ]
  },
  {
   "cell_type": "markdown",
   "id": "e2d29922",
   "metadata": {},
   "source": [
    "### Evaluate performance"
   ]
  },
  {
   "cell_type": "code",
   "execution_count": 283,
   "id": "a1b759bb",
   "metadata": {},
   "outputs": [
    {
     "data": {
      "text/html": [
       "<div>\n",
       "<style scoped>\n",
       "    .dataframe tbody tr th:only-of-type {\n",
       "        vertical-align: middle;\n",
       "    }\n",
       "\n",
       "    .dataframe tbody tr th {\n",
       "        vertical-align: top;\n",
       "    }\n",
       "\n",
       "    .dataframe thead th {\n",
       "        text-align: right;\n",
       "    }\n",
       "</style>\n",
       "<table border=\"1\" class=\"dataframe\">\n",
       "  <thead>\n",
       "    <tr style=\"text-align: right;\">\n",
       "      <th></th>\n",
       "      <th>precision</th>\n",
       "      <th>recall</th>\n",
       "      <th>f1-score</th>\n",
       "      <th>support</th>\n",
       "    </tr>\n",
       "  </thead>\n",
       "  <tbody>\n",
       "    <tr>\n",
       "      <th>0</th>\n",
       "      <td>0.863848</td>\n",
       "      <td>0.921658</td>\n",
       "      <td>0.891817</td>\n",
       "      <td>6829.000000</td>\n",
       "    </tr>\n",
       "    <tr>\n",
       "      <th>1</th>\n",
       "      <td>0.696540</td>\n",
       "      <td>0.553153</td>\n",
       "      <td>0.616621</td>\n",
       "      <td>2220.000000</td>\n",
       "    </tr>\n",
       "    <tr>\n",
       "      <th>accuracy</th>\n",
       "      <td>0.831252</td>\n",
       "      <td>0.831252</td>\n",
       "      <td>0.831252</td>\n",
       "      <td>0.831252</td>\n",
       "    </tr>\n",
       "    <tr>\n",
       "      <th>macro avg</th>\n",
       "      <td>0.780194</td>\n",
       "      <td>0.737405</td>\n",
       "      <td>0.754219</td>\n",
       "      <td>9049.000000</td>\n",
       "    </tr>\n",
       "    <tr>\n",
       "      <th>weighted avg</th>\n",
       "      <td>0.822803</td>\n",
       "      <td>0.831252</td>\n",
       "      <td>0.824303</td>\n",
       "      <td>9049.000000</td>\n",
       "    </tr>\n",
       "  </tbody>\n",
       "</table>\n",
       "</div>"
      ],
      "text/plain": [
       "              precision    recall  f1-score      support\n",
       "0              0.863848  0.921658  0.891817  6829.000000\n",
       "1              0.696540  0.553153  0.616621  2220.000000\n",
       "accuracy       0.831252  0.831252  0.831252     0.831252\n",
       "macro avg      0.780194  0.737405  0.754219  9049.000000\n",
       "weighted avg   0.822803  0.831252  0.824303  9049.000000"
      ]
     },
     "execution_count": 283,
     "metadata": {},
     "output_type": "execute_result"
    }
   ],
   "source": [
    "pd.DataFrame(classification_report(y_test, y_pred, output_dict=True)).T"
   ]
  },
  {
   "cell_type": "markdown",
   "id": "f97ad560",
   "metadata": {},
   "source": [
    "### Evaluate fairness"
   ]
  },
  {
   "cell_type": "code",
   "execution_count": 284,
   "id": "3f1fa40e",
   "metadata": {
    "scrolled": true
   },
   "outputs": [
    {
     "data": {
      "text/html": [
       "<div>\n",
       "<style scoped>\n",
       "    .dataframe tbody tr th:only-of-type {\n",
       "        vertical-align: middle;\n",
       "    }\n",
       "\n",
       "    .dataframe tbody tr th {\n",
       "        vertical-align: top;\n",
       "    }\n",
       "\n",
       "    .dataframe thead th {\n",
       "        text-align: right;\n",
       "    }\n",
       "</style>\n",
       "<table border=\"1\" class=\"dataframe\">\n",
       "  <thead>\n",
       "    <tr style=\"text-align: right;\">\n",
       "      <th></th>\n",
       "      <th>sex</th>\n",
       "    </tr>\n",
       "  </thead>\n",
       "  <tbody>\n",
       "    <tr>\n",
       "      <th>average_odds_difference</th>\n",
       "      <td>0.051906</td>\n",
       "    </tr>\n",
       "    <tr>\n",
       "      <th>disparate_impact_ratio</th>\n",
       "      <td>0.609058</td>\n",
       "    </tr>\n",
       "    <tr>\n",
       "      <th>equal_opportunity_difference</th>\n",
       "      <td>0.127800</td>\n",
       "    </tr>\n",
       "    <tr>\n",
       "      <th>statistical_parity_difference</th>\n",
       "      <td>-0.086982</td>\n",
       "    </tr>\n",
       "  </tbody>\n",
       "</table>\n",
       "</div>"
      ],
      "text/plain": [
       "                                    sex\n",
       "average_odds_difference        0.051906\n",
       "disparate_impact_ratio         0.609058\n",
       "equal_opportunity_difference   0.127800\n",
       "statistical_parity_difference -0.086982"
      ]
     },
     "execution_count": 284,
     "metadata": {},
     "output_type": "execute_result"
    }
   ],
   "source": [
    "fairness_report(y_test, y_pred, prot_attr='sex')"
   ]
  },
  {
   "cell_type": "markdown",
   "id": "e3b53ec4",
   "metadata": {},
   "source": [
    "## Using Inprocessing"
   ]
  },
  {
   "cell_type": "code",
   "execution_count": 285,
   "id": "33248b6e",
   "metadata": {},
   "outputs": [],
   "source": [
    "from aif360.sklearn.inprocessing import AdversarialDebiasing"
   ]
  },
  {
   "cell_type": "code",
   "execution_count": 286,
   "id": "931163f8",
   "metadata": {},
   "outputs": [
    {
     "data": {
      "text/plain": [
       "AdversarialDebiasing(prot_attr='sex', random_state=1234567)"
      ]
     },
     "execution_count": 286,
     "metadata": {},
     "output_type": "execute_result"
    }
   ],
   "source": [
    "adv_deb = AdversarialDebiasing(prot_attr='sex', random_state=1234567)\n",
    "adv_deb.fit(X_train, y_train)"
   ]
  },
  {
   "cell_type": "code",
   "execution_count": 287,
   "id": "3af4b7dc",
   "metadata": {},
   "outputs": [],
   "source": [
    "y_pred = adv_deb.predict(X_test)"
   ]
  },
  {
   "cell_type": "markdown",
   "id": "62e2e3b2",
   "metadata": {},
   "source": [
    "### Evaluate performance"
   ]
  },
  {
   "cell_type": "code",
   "execution_count": 288,
   "id": "112771e0",
   "metadata": {},
   "outputs": [
    {
     "data": {
      "text/html": [
       "<div>\n",
       "<style scoped>\n",
       "    .dataframe tbody tr th:only-of-type {\n",
       "        vertical-align: middle;\n",
       "    }\n",
       "\n",
       "    .dataframe tbody tr th {\n",
       "        vertical-align: top;\n",
       "    }\n",
       "\n",
       "    .dataframe thead th {\n",
       "        text-align: right;\n",
       "    }\n",
       "</style>\n",
       "<table border=\"1\" class=\"dataframe\">\n",
       "  <thead>\n",
       "    <tr style=\"text-align: right;\">\n",
       "      <th></th>\n",
       "      <th>precision</th>\n",
       "      <th>recall</th>\n",
       "      <th>f1-score</th>\n",
       "      <th>support</th>\n",
       "    </tr>\n",
       "  </thead>\n",
       "  <tbody>\n",
       "    <tr>\n",
       "      <th>0</th>\n",
       "      <td>0.860893</td>\n",
       "      <td>0.946112</td>\n",
       "      <td>0.901493</td>\n",
       "      <td>6829.000000</td>\n",
       "    </tr>\n",
       "    <tr>\n",
       "      <th>1</th>\n",
       "      <td>0.761658</td>\n",
       "      <td>0.529730</td>\n",
       "      <td>0.624867</td>\n",
       "      <td>2220.000000</td>\n",
       "    </tr>\n",
       "    <tr>\n",
       "      <th>accuracy</th>\n",
       "      <td>0.843961</td>\n",
       "      <td>0.843961</td>\n",
       "      <td>0.843961</td>\n",
       "      <td>0.843961</td>\n",
       "    </tr>\n",
       "    <tr>\n",
       "      <th>macro avg</th>\n",
       "      <td>0.811275</td>\n",
       "      <td>0.737921</td>\n",
       "      <td>0.763180</td>\n",
       "      <td>9049.000000</td>\n",
       "    </tr>\n",
       "    <tr>\n",
       "      <th>weighted avg</th>\n",
       "      <td>0.836547</td>\n",
       "      <td>0.843961</td>\n",
       "      <td>0.833628</td>\n",
       "      <td>9049.000000</td>\n",
       "    </tr>\n",
       "  </tbody>\n",
       "</table>\n",
       "</div>"
      ],
      "text/plain": [
       "              precision    recall  f1-score      support\n",
       "0              0.860893  0.946112  0.901493  6829.000000\n",
       "1              0.761658  0.529730  0.624867  2220.000000\n",
       "accuracy       0.843961  0.843961  0.843961     0.843961\n",
       "macro avg      0.811275  0.737921  0.763180  9049.000000\n",
       "weighted avg   0.836547  0.843961  0.833628  9049.000000"
      ]
     },
     "execution_count": 288,
     "metadata": {},
     "output_type": "execute_result"
    }
   ],
   "source": [
    "pd.DataFrame(classification_report(y_test, y_pred, output_dict=True)).T"
   ]
  },
  {
   "cell_type": "markdown",
   "id": "a04fa5f6",
   "metadata": {},
   "source": [
    "### Evaluate fairness "
   ]
  },
  {
   "cell_type": "code",
   "execution_count": 289,
   "id": "d5c15287",
   "metadata": {
    "scrolled": true
   },
   "outputs": [
    {
     "data": {
      "text/html": [
       "<div>\n",
       "<style scoped>\n",
       "    .dataframe tbody tr th:only-of-type {\n",
       "        vertical-align: middle;\n",
       "    }\n",
       "\n",
       "    .dataframe tbody tr th {\n",
       "        vertical-align: top;\n",
       "    }\n",
       "\n",
       "    .dataframe thead th {\n",
       "        text-align: right;\n",
       "    }\n",
       "</style>\n",
       "<table border=\"1\" class=\"dataframe\">\n",
       "  <thead>\n",
       "    <tr style=\"text-align: right;\">\n",
       "      <th></th>\n",
       "      <th>sex</th>\n",
       "    </tr>\n",
       "  </thead>\n",
       "  <tbody>\n",
       "    <tr>\n",
       "      <th>average_odds_difference</th>\n",
       "      <td>0.102165</td>\n",
       "    </tr>\n",
       "    <tr>\n",
       "      <th>disparate_impact_ratio</th>\n",
       "      <td>0.704891</td>\n",
       "    </tr>\n",
       "    <tr>\n",
       "      <th>equal_opportunity_difference</th>\n",
       "      <td>0.203286</td>\n",
       "    </tr>\n",
       "    <tr>\n",
       "      <th>statistical_parity_difference</th>\n",
       "      <td>-0.055569</td>\n",
       "    </tr>\n",
       "  </tbody>\n",
       "</table>\n",
       "</div>"
      ],
      "text/plain": [
       "                                    sex\n",
       "average_odds_difference        0.102165\n",
       "disparate_impact_ratio         0.704891\n",
       "equal_opportunity_difference   0.203286\n",
       "statistical_parity_difference -0.055569"
      ]
     },
     "execution_count": 289,
     "metadata": {},
     "output_type": "execute_result"
    }
   ],
   "source": [
    "fairness_report(y_test, y_pred, prot_attr='sex')"
   ]
  },
  {
   "cell_type": "markdown",
   "id": "3065849e",
   "metadata": {},
   "source": [
    "### Close instance"
   ]
  },
  {
   "cell_type": "code",
   "execution_count": 193,
   "id": "73c8a4e8",
   "metadata": {},
   "outputs": [],
   "source": [
    "# adv_deb.sess_.close()  # AdversarialDebiasing creates a TensorFlow session \n",
    "                       # which we should close when we're finished to free up resources"
   ]
  },
  {
   "cell_type": "markdown",
   "id": "55fb4e32",
   "metadata": {},
   "source": [
    "## Using Postprocessing"
   ]
  },
  {
   "cell_type": "code",
   "execution_count": 290,
   "id": "923c045d",
   "metadata": {},
   "outputs": [],
   "source": [
    "from aif360.sklearn.postprocessing import CalibratedEqualizedOdds, PostProcessingMeta"
   ]
  },
  {
   "cell_type": "code",
   "execution_count": 291,
   "id": "6b278554",
   "metadata": {},
   "outputs": [
    {
     "name": "stderr",
     "output_type": "stream",
     "text": [
      "/home/paollamagalhaes/miniconda3/envs/aif360/lib/python3.6/site-packages/sklearn/linear_model/_logistic.py:765: ConvergenceWarning: lbfgs failed to converge (status=1):\n",
      "STOP: TOTAL NO. of ITERATIONS REACHED LIMIT.\n",
      "\n",
      "Increase the number of iterations (max_iter) or scale the data as shown in:\n",
      "    https://scikit-learn.org/stable/modules/preprocessing.html\n",
      "Please also refer to the documentation for alternative solver options:\n",
      "    https://scikit-learn.org/stable/modules/linear_model.html#logistic-regression\n",
      "  extra_warning_msg=_LOGISTIC_SOLVER_CONVERGENCE_MSG)\n"
     ]
    },
    {
     "data": {
      "text/plain": [
       "PostProcessingMeta(estimator=LogisticRegression(),\n",
       "                   postprocessor=CalibratedEqualizedOdds(cost_constraint='fnr',\n",
       "                                                         prot_attr='sex',\n",
       "                                                         random_state=1234567))"
      ]
     },
     "execution_count": 291,
     "metadata": {},
     "output_type": "execute_result"
    }
   ],
   "source": [
    "cal_eq_odds = CalibratedEqualizedOdds('sex', cost_constraint='fnr', random_state=1234567)\n",
    "postproc = PostProcessingMeta(estimator=estimator, postprocessor=cal_eq_odds, random_state=1234567)\n",
    "\n",
    "postproc.fit(X_train, y_train)"
   ]
  },
  {
   "cell_type": "code",
   "execution_count": 292,
   "id": "b8bae811",
   "metadata": {},
   "outputs": [],
   "source": [
    "y_pred = postproc.predict(X_test)"
   ]
  },
  {
   "cell_type": "markdown",
   "id": "48da0afe",
   "metadata": {},
   "source": [
    "### Evaluate performance"
   ]
  },
  {
   "cell_type": "code",
   "execution_count": 293,
   "id": "01a60f1a",
   "metadata": {},
   "outputs": [
    {
     "data": {
      "text/html": [
       "<div>\n",
       "<style scoped>\n",
       "    .dataframe tbody tr th:only-of-type {\n",
       "        vertical-align: middle;\n",
       "    }\n",
       "\n",
       "    .dataframe tbody tr th {\n",
       "        vertical-align: top;\n",
       "    }\n",
       "\n",
       "    .dataframe thead th {\n",
       "        text-align: right;\n",
       "    }\n",
       "</style>\n",
       "<table border=\"1\" class=\"dataframe\">\n",
       "  <thead>\n",
       "    <tr style=\"text-align: right;\">\n",
       "      <th></th>\n",
       "      <th>precision</th>\n",
       "      <th>recall</th>\n",
       "      <th>f1-score</th>\n",
       "      <th>support</th>\n",
       "    </tr>\n",
       "  </thead>\n",
       "  <tbody>\n",
       "    <tr>\n",
       "      <th>0</th>\n",
       "      <td>0.813686</td>\n",
       "      <td>0.954166</td>\n",
       "      <td>0.878345</td>\n",
       "      <td>6829.00000</td>\n",
       "    </tr>\n",
       "    <tr>\n",
       "      <th>1</th>\n",
       "      <td>0.699328</td>\n",
       "      <td>0.327928</td>\n",
       "      <td>0.446489</td>\n",
       "      <td>2220.00000</td>\n",
       "    </tr>\n",
       "    <tr>\n",
       "      <th>accuracy</th>\n",
       "      <td>0.800530</td>\n",
       "      <td>0.800530</td>\n",
       "      <td>0.800530</td>\n",
       "      <td>0.80053</td>\n",
       "    </tr>\n",
       "    <tr>\n",
       "      <th>macro avg</th>\n",
       "      <td>0.756507</td>\n",
       "      <td>0.641047</td>\n",
       "      <td>0.662417</td>\n",
       "      <td>9049.00000</td>\n",
       "    </tr>\n",
       "    <tr>\n",
       "      <th>weighted avg</th>\n",
       "      <td>0.785631</td>\n",
       "      <td>0.800530</td>\n",
       "      <td>0.772397</td>\n",
       "      <td>9049.00000</td>\n",
       "    </tr>\n",
       "  </tbody>\n",
       "</table>\n",
       "</div>"
      ],
      "text/plain": [
       "              precision    recall  f1-score     support\n",
       "0              0.813686  0.954166  0.878345  6829.00000\n",
       "1              0.699328  0.327928  0.446489  2220.00000\n",
       "accuracy       0.800530  0.800530  0.800530     0.80053\n",
       "macro avg      0.756507  0.641047  0.662417  9049.00000\n",
       "weighted avg   0.785631  0.800530  0.772397  9049.00000"
      ]
     },
     "execution_count": 293,
     "metadata": {},
     "output_type": "execute_result"
    }
   ],
   "source": [
    "pd.DataFrame(classification_report(y_test, y_pred, output_dict=True)).T"
   ]
  },
  {
   "cell_type": "markdown",
   "id": "9c4775a7",
   "metadata": {},
   "source": [
    "### Evaluate fairness "
   ]
  },
  {
   "cell_type": "code",
   "execution_count": 294,
   "id": "ddf4ed3e",
   "metadata": {
    "scrolled": true
   },
   "outputs": [
    {
     "data": {
      "text/html": [
       "<div>\n",
       "<style scoped>\n",
       "    .dataframe tbody tr th:only-of-type {\n",
       "        vertical-align: middle;\n",
       "    }\n",
       "\n",
       "    .dataframe tbody tr th {\n",
       "        vertical-align: top;\n",
       "    }\n",
       "\n",
       "    .dataframe thead th {\n",
       "        text-align: right;\n",
       "    }\n",
       "</style>\n",
       "<table border=\"1\" class=\"dataframe\">\n",
       "  <thead>\n",
       "    <tr style=\"text-align: right;\">\n",
       "      <th></th>\n",
       "      <th>sex</th>\n",
       "    </tr>\n",
       "  </thead>\n",
       "  <tbody>\n",
       "    <tr>\n",
       "      <th>average_odds_difference</th>\n",
       "      <td>0.047157</td>\n",
       "    </tr>\n",
       "    <tr>\n",
       "      <th>disparate_impact_ratio</th>\n",
       "      <td>0.564673</td>\n",
       "    </tr>\n",
       "    <tr>\n",
       "      <th>equal_opportunity_difference</th>\n",
       "      <td>0.125682</td>\n",
       "    </tr>\n",
       "    <tr>\n",
       "      <th>statistical_parity_difference</th>\n",
       "      <td>-0.058128</td>\n",
       "    </tr>\n",
       "  </tbody>\n",
       "</table>\n",
       "</div>"
      ],
      "text/plain": [
       "                                    sex\n",
       "average_odds_difference        0.047157\n",
       "disparate_impact_ratio         0.564673\n",
       "equal_opportunity_difference   0.125682\n",
       "statistical_parity_difference -0.058128"
      ]
     },
     "execution_count": 294,
     "metadata": {},
     "output_type": "execute_result"
    }
   ],
   "source": [
    "fairness_report(y_test, y_pred, prot_attr='sex')"
   ]
  },
  {
   "cell_type": "markdown",
   "id": "ffcd499d",
   "metadata": {},
   "source": [
    "# Bias mitigation algoritms comparison"
   ]
  },
  {
   "cell_type": "code",
   "execution_count": 297,
   "id": "73c3ab00",
   "metadata": {},
   "outputs": [],
   "source": [
    "algos = [estimator, clf, postproc, adv_deb]\n",
    "algo_names = ['suppression', 'preprocessing', 'inprocessing', 'postprocessing']\n",
    "sex_fairness = pd.DataFrame(index=fairness_report(y_test, y_pred, prot_attr='sex').index)\n",
    "for i, algo in enumerate(algos):\n",
    "    y_pred = algo.predict(X_test)\n",
    "    sex_fairness = pd.merge(sex_fairness, \n",
    "                             fairness_report(y_test, y_pred, prot_attr='sex'), \n",
    "                             left_index=True, right_index=True, suffixes=('', '_' + algo_names[i]))"
   ]
  },
  {
   "cell_type": "code",
   "execution_count": 298,
   "id": "38844873",
   "metadata": {},
   "outputs": [
    {
     "data": {
      "text/html": [
       "<div>\n",
       "<style scoped>\n",
       "    .dataframe tbody tr th:only-of-type {\n",
       "        vertical-align: middle;\n",
       "    }\n",
       "\n",
       "    .dataframe tbody tr th {\n",
       "        vertical-align: top;\n",
       "    }\n",
       "\n",
       "    .dataframe thead th {\n",
       "        text-align: right;\n",
       "    }\n",
       "</style>\n",
       "<table border=\"1\" class=\"dataframe\">\n",
       "  <thead>\n",
       "    <tr style=\"text-align: right;\">\n",
       "      <th></th>\n",
       "      <th>sex</th>\n",
       "      <th>sex_preprocessing</th>\n",
       "      <th>sex_inprocessing</th>\n",
       "      <th>sex_postprocessing</th>\n",
       "    </tr>\n",
       "  </thead>\n",
       "  <tbody>\n",
       "    <tr>\n",
       "      <th>average_odds_difference</th>\n",
       "      <td>-0.093343</td>\n",
       "      <td>0.051906</td>\n",
       "      <td>0.047157</td>\n",
       "      <td>0.102165</td>\n",
       "    </tr>\n",
       "    <tr>\n",
       "      <th>disparate_impact_ratio</th>\n",
       "      <td>0.338628</td>\n",
       "      <td>0.609058</td>\n",
       "      <td>0.564673</td>\n",
       "      <td>0.704891</td>\n",
       "    </tr>\n",
       "    <tr>\n",
       "      <th>equal_opportunity_difference</th>\n",
       "      <td>-0.105511</td>\n",
       "      <td>0.127800</td>\n",
       "      <td>0.125682</td>\n",
       "      <td>0.203286</td>\n",
       "    </tr>\n",
       "    <tr>\n",
       "      <th>statistical_parity_difference</th>\n",
       "      <td>-0.171693</td>\n",
       "      <td>-0.086982</td>\n",
       "      <td>-0.058128</td>\n",
       "      <td>-0.055569</td>\n",
       "    </tr>\n",
       "  </tbody>\n",
       "</table>\n",
       "</div>"
      ],
      "text/plain": [
       "                                    sex  sex_preprocessing  sex_inprocessing  \\\n",
       "average_odds_difference       -0.093343           0.051906          0.047157   \n",
       "disparate_impact_ratio         0.338628           0.609058          0.564673   \n",
       "equal_opportunity_difference  -0.105511           0.127800          0.125682   \n",
       "statistical_parity_difference -0.171693          -0.086982         -0.058128   \n",
       "\n",
       "                               sex_postprocessing  \n",
       "average_odds_difference                  0.102165  \n",
       "disparate_impact_ratio                   0.704891  \n",
       "equal_opportunity_difference             0.203286  \n",
       "statistical_parity_difference           -0.055569  "
      ]
     },
     "execution_count": 298,
     "metadata": {},
     "output_type": "execute_result"
    }
   ],
   "source": [
    "sex_fairness"
   ]
  }
 ],
 "metadata": {
  "kernelspec": {
   "display_name": "Python 3",
   "language": "python",
   "name": "python3"
  },
  "language_info": {
   "codemirror_mode": {
    "name": "ipython",
    "version": 3
   },
   "file_extension": ".py",
   "mimetype": "text/x-python",
   "name": "python",
   "nbconvert_exporter": "python",
   "pygments_lexer": "ipython3",
   "version": "3.6.13"
  }
 },
 "nbformat": 4,
 "nbformat_minor": 5
}
